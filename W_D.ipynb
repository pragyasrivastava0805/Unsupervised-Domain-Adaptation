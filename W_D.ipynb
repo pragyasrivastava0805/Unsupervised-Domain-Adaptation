{
  "nbformat": 4,
  "nbformat_minor": 0,
  "metadata": {
    "colab": {
      "name": "W-D.ipynb",
      "provenance": [],
      "machine_shape": "hm",
      "mount_file_id": "1wTIz6JBNdz_INztMUWZISsas-n7Jgy72",
      "authorship_tag": "ABX9TyP8YIbqCO21jXk695DpOT42",
      "include_colab_link": true
    },
    "kernelspec": {
      "name": "python3",
      "display_name": "Python 3"
    },
    "language_info": {
      "name": "python"
    },
    "accelerator": "GPU"
  },
  "cells": [
    {
      "cell_type": "markdown",
      "metadata": {
        "id": "view-in-github",
        "colab_type": "text"
      },
      "source": [
        "<a href=\"https://colab.research.google.com/github/pragyasrivastava0805/congenial-journey/blob/main/W_D.ipynb\" target=\"_parent\"><img src=\"https://colab.research.google.com/assets/colab-badge.svg\" alt=\"Open In Colab\"/></a>"
      ]
    },
    {
      "cell_type": "code",
      "metadata": {
        "id": "J73oVfZFG6Yl"
      },
      "source": [
        "import torch\n",
        "from torch.utils.data import Dataset, DataLoader\n",
        "from torchvision import transforms, datasets\n",
        "import numpy as np\n",
        "import os\n",
        "from torch.utils.data.sampler import SubsetRandomSampler\n",
        "from PIL import Image\n",
        "\n",
        "\n",
        "\n",
        "class OfficeAmazonDataset(Dataset):\n",
        "\n",
        "\n",
        "    def __init__(self, image_folder_dataset, transform=None):\n",
        "        super(OfficeAmazonDataset, self).__init__()\n",
        "        self.image_folder_dataset = image_folder_dataset\n",
        "        self.transform = transform\n",
        "\n",
        "    def __len__(self):\n",
        "        return len(self.image_folder_dataset.imgs)\n",
        "\n",
        "    def __getitem__(self, idx):\n",
        "        # read image, class from folder_dataset given index\n",
        "        img, img_label = image_folder_dataset[idx][0], image_folder_dataset[idx][1]\n",
        "\n",
        "        # apply transformations (it already returns them as torch tensors)\n",
        "        if self.transform is not None:\n",
        "            self.transform(img)\n",
        "\n",
        "        img_label_pair = {\"image\": img,\n",
        "                         \"class\": img_label}\n",
        "\n",
        "        return img_label_pair\n",
        "\n",
        "\n",
        "def get_dataloader(dataset, batch_size, train_ratio=0.7):\n",
        "\n",
        "\n",
        "    def get_subset(indices, start, end):\n",
        "        return indices[start:start+end]\n",
        "\n",
        "    # Split train/val data ratios\n",
        "    TRAIN_RATIO, VALIDATION_RATIO = train_ratio, 1-train_ratio\n",
        "    train_set_size = int(len(dataset) * TRAIN_RATIO)\n",
        "    validation_set_size = int(len(dataset) * VALIDATION_RATIO)\n",
        "\n",
        "    # Generate random indices for train and val sets\n",
        "    indices = torch.randperm(len(dataset))\n",
        "    train_indices = get_subset(indices, 0, train_set_size)\n",
        "    validation_indices = get_subset(indices,train_set_size,validation_set_size)\n",
        "    # test_indices = get_subset(indices,train_count+validation_count,len(dataset))\n",
        "\n",
        "    # Create sampler objects\n",
        "    train_sampler = SubsetRandomSampler(train_indices)\n",
        "    val_sampler = SubsetRandomSampler(validation_indices)\n",
        "\n",
        "    # Create data loaders\n",
        "    train_loader = DataLoader(dataset, batch_size=batch_size,\n",
        "                              sampler=train_sampler, num_workers=0)\n",
        "\n",
        "    val_loader = DataLoader(dataset, batch_size=batch_size,\n",
        "                            sampler=val_sampler, num_workers=0)\n",
        "\n",
        "    return train_loader, val_loader\n",
        "\n",
        "\n",
        "def get_office_data(name_dataset):\n",
        "\n",
        "\n",
        "    \n",
        "    root_dir = \"/content/drive/My Drive/Original_images/Original_images\" .format(name_dataset)\n",
        "\n",
        "    __datasets__ = [\"amazon\", \"dslr\", \"webcam\"]\n",
        "\n",
        "    if name_dataset not in __datasets__:\n",
        "        raise ValueError(\"must introduce one of the three datasets in office\")\n",
        "\n",
        "    mean_std = {\n",
        "        \"amazon\":{\n",
        "            \"mean\":[0.7923, 0.7862, 0.7841],\n",
        "            \"std\":[0.3149, 0.3174, 0.3193]\n",
        "        },\n",
        "        \"dslr\":{\n",
        "            \"mean\":[0.4708, 0.4486, 0.4063],\n",
        "            \"std\":[0.2039, 0.1920, 0.1996]\n",
        "        },\n",
        "        \"webcam\":{\n",
        "            \"mean\":[0.6119, 0.6187, 0.6173],\n",
        "            \"std\":[0.2506, 0.2555, 0.2577]\n",
        "        }\n",
        "    }\n",
        "\n",
        "    # compose image transformations\n",
        "    data_transforms = transforms.Compose([\n",
        "            transforms.Resize((227, 227)),\n",
        "            transforms.CenterCrop(227),\n",
        "            # transforms.RandomSizedCrop(224),\n",
        "            # transforms.RandomHorizontalFlip(),\n",
        "            transforms.ToTensor(),\n",
        "            transforms.Normalize(mean=mean_std[name_dataset][\"mean\"],\n",
        "                                 std=mean_std[name_dataset][\"std\"])\n",
        "        ])\n",
        "\n",
        "    # retrieve dataset using ImageFolder\n",
        "    # datasets.ImageFolder() command expects our data to be organized\n",
        "    # in the following way: root/label/picture.png\n",
        "    dataset = datasets.ImageFolder(root=root_dir,\n",
        "                                   transform=data_transforms)\n",
        "    # Dataloader is able to spit out random samples of our data,\n",
        "    # so our model won’t have to deal with the entire dataset every time.\n",
        "    # shuffle data when training\n",
        "  \n",
        "    return dataset"
      ],
      "execution_count": null,
      "outputs": []
    },
    {
      "cell_type": "code",
      "metadata": {
        "id": "S-rlJbeZHUl1"
      },
      "source": [
        "source_train_loader,source_val_loader=get_dataloader(get_office_data(\"webcam\"),batch_size=64,train_ratio=0.70)\n",
        "target_train_loader,target_val_loader=get_dataloader(get_office_data(\"dslr\"),batch_size=64,train_ratio=0.70)"
      ],
      "execution_count": null,
      "outputs": []
    },
    {
      "cell_type": "code",
      "metadata": {
        "id": "HOvCKzSdHYiU"
      },
      "source": [
        "from torch.autograd import Function\n",
        "import torch.nn as nn\n",
        "import torchvision.models as models\n",
        "class ReverseLayerF(Function):\n",
        "\n",
        "    @staticmethod\n",
        "    def forward(ctx, x, alpha):\n",
        "        ctx.alpha = alpha\n",
        "\n",
        "        return x.view_as(x)\n",
        "\n",
        "    @staticmethod\n",
        "    def backward(ctx, grad_output):\n",
        "        output = grad_output.neg() * ctx.alpha\n",
        "\n",
        "        return output, None\n",
        "\n",
        "class ResNet50(nn.Module):\n",
        "    def __init__(self):\n",
        "        super(ResNet50, self).__init__()\n",
        "        \n",
        "        resnetModel = models.resnet50(pretrained=True)\n",
        "        feature_map = list(resnetModel.children())\n",
        "        feature_map.pop()\n",
        "        for layers in feature_map:\n",
        "          layers.trainable=False\n",
        "        self.feature_extractor = nn.Sequential(*feature_map)\n",
        "\n",
        "        self.classifier = nn.Sequential(\n",
        "            nn.Linear(2048, 31),\n",
        "        )\n",
        "\n",
        "        self.discriminator = nn.Sequential(\n",
        "            nn.Linear(2048, 1024),\n",
        "            nn.ReLU(inplace=True),\n",
        "            nn.Dropout(),\n",
        "            nn.Linear(1024, 1024),\n",
        "            nn.ReLU(inplace=True),\n",
        "            nn.Dropout(),\n",
        "            nn.Linear(1024, 32),\n",
        "        )\n",
        "\n",
        "    def forward(self, input_data, alpha):\n",
        "        input_data = input_data.expand(input_data.data.shape[0], 3, 227, 227)\n",
        "        feature = self.feature_extractor(input_data)\n",
        "        feature = feature.view(-1, 2048)\n",
        "\n",
        "        reverse_bottleneck = ReverseLayerF.apply(feature, alpha)\n",
        "\n",
        "        class_output = self.classifier(feature)\n",
        "        domain_output = self.discriminator(reverse_bottleneck)\n",
        "\n",
        "        return class_output, domain_output"
      ],
      "execution_count": null,
      "outputs": []
    },
    {
      "cell_type": "code",
      "metadata": {
        "id": "_Ce4HA1oHdRG"
      },
      "source": [
        "def test(dataloader):\n",
        "    len_dataloader = len(dataloader)\n",
        "    data_target_iter = iter(dataloader)\n",
        "\n",
        "    i = 0\n",
        "    n_total = 0\n",
        "    n_correct = 0\n",
        "    while i < len_dataloader:\n",
        "\n",
        "        # test model using target data\n",
        "        data_target = data_target_iter.next()\n",
        "        t_img, t_label = data_target\n",
        "\n",
        "        batch_size = len(t_label)\n",
        "\n",
        "        input_img = torch.FloatTensor(batch_size, 3, image_size, image_size)\n",
        "        class_label = torch.LongTensor(batch_size)\n",
        "\n",
        "\n",
        "        input_img.resize_as_(t_img).copy_(t_img)\n",
        "        class_label.resize_as_(t_label).copy_(t_label)\n",
        "\n",
        "        class_output, _ = my_net(input_data=input_img, alpha=alpha)\n",
        "        pred = class_output.data.max(1, keepdim=True)[1]\n",
        "        n_correct += pred.eq(class_label.data.view_as(pred)).cpu().sum()\n",
        "        n_total += batch_size\n",
        "\n",
        "        i += 1\n",
        "    accu = n_correct.data.numpy() * 1.0 / n_total\n",
        "    return accu"
      ],
      "execution_count": null,
      "outputs": []
    },
    {
      "cell_type": "code",
      "metadata": {
        "colab": {
          "base_uri": "https://localhost:8080/"
        },
        "id": "pAdIlc2hHhbl",
        "outputId": "40ce2e94-ef2e-4994-d7fe-1c394f360385"
      },
      "source": [
        "lr = 1e-3\n",
        "n_epoch=10\n",
        "my_net = ResNet50()\n",
        "import torch.optim as optim\n",
        "optimizer = optim.Adam(my_net.parameters(), lr=lr)\n",
        "image_size=227\n",
        "acc1=[]\n",
        "acc2=[]\n",
        "\n",
        "loss_class = torch.nn.CrossEntropyLoss()\n",
        "loss_domain = torch.nn.CrossEntropyLoss()\n",
        "\n",
        "for p in my_net.parameters():\n",
        "    p.requires_grad = True\n",
        "for epoch in range(n_epoch):\n",
        "\n",
        "    len_dataloader = min(len(source_train_loader), len(target_train_loader))\n",
        "    data_source_iter = iter(source_train_loader)\n",
        "    data_target_iter = iter(target_train_loader)\n",
        "\n",
        "    i = 0\n",
        "    while i < len_dataloader:\n",
        "\n",
        "        \n",
        "        alpha = 1\n",
        "\n",
        "        # training model using source data\n",
        "        data_source = data_source_iter.next()\n",
        "        s_img, s_label = data_source\n",
        "      \n",
        "        my_net.zero_grad()\n",
        "        batch_size = len(s_label)\n",
        "\n",
        "        input_img = torch.FloatTensor(batch_size, 3, image_size, image_size)\n",
        "        class_label = torch.LongTensor(batch_size)\n",
        "    \n",
        "\n",
        "     \n",
        "\n",
        "        input_img.resize_as_(s_img).copy_(s_img)\n",
        "        class_label.resize_as_(s_label).copy_(s_label)\n",
        "\n",
        "        class_output, domain_output = my_net(input_data=input_img, alpha=alpha)\n",
        "        err_s_label = loss_class(class_output, class_label)\n",
        "        err_s_domain = loss_domain(domain_output, class_label)\n",
        "\n",
        "        # training model using target data\n",
        "        data_target = data_target_iter.next()\n",
        "        t_img, _ = data_target\n",
        "\n",
        "        batch_size = len(t_img)\n",
        "\n",
        "        input_img = torch.FloatTensor(batch_size, 3, image_size, image_size)\n",
        "        domain_label = torch.full((batch_size,1),31)\n",
        "        domain_label.squeeze_()\n",
        "\n",
        "      \n",
        "\n",
        "        input_img.resize_as_(t_img).copy_(t_img)\n",
        "\n",
        "        _, domain_output = my_net(input_data=input_img, alpha=alpha)\n",
        "        err_t_domain = loss_domain(domain_output, domain_label)\n",
        "        err = (err_t_domain + err_s_domain)/(len(source_train_loader)+len(target_train_loader)) + err_s_label/(len(source_train_loader))\n",
        "        err.backward()\n",
        "        optimizer.step()\n",
        "\n",
        "        i += 1\n",
        "    print(epoch,n_epoch, err_s_label.cpu().data.numpy(),err_s_domain.cpu().data.numpy(), err_t_domain.cpu().data.numpy())\n",
        "    acc1.append(test(source_val_loader))\n",
        "    acc2.append(test(target_val_loader))"
      ],
      "execution_count": null,
      "outputs": [
        {
          "output_type": "stream",
          "name": "stderr",
          "text": [
            "/usr/local/lib/python3.7/dist-packages/torch/nn/functional.py:718: UserWarning: Named tensors and all their associated APIs are an experimental feature and subject to change. Please do not use them for anything important until they are released as stable. (Triggered internally at  /pytorch/c10/core/TensorImpl.h:1156.)\n",
            "  return torch.max_pool2d(input, kernel_size, stride, padding, dilation, ceil_mode)\n"
          ]
        },
        {
          "output_type": "stream",
          "name": "stdout",
          "text": [
            "0 10 0.0837978 1.3358656 0.6649173\n",
            "1 10 0.0658206 1.0444944 0.6706693\n",
            "2 10 0.26626378 1.1511894 0.7364802\n",
            "3 10 0.15791075 0.8853248 0.829731\n",
            "4 10 0.16390583 0.95027155 0.72230285\n",
            "5 10 0.26298577 0.9609374 0.70877945\n",
            "6 10 0.1972064 1.4047852 0.6173439\n",
            "7 10 0.122759275 0.8333171 0.8317548\n",
            "8 10 0.010378698 0.6668774 0.75334275\n",
            "9 10 0.0625501 0.9004926 0.70466745\n"
          ]
        }
      ]
    },
    {
      "cell_type": "code",
      "metadata": {
        "colab": {
          "base_uri": "https://localhost:8080/",
          "height": 312
        },
        "id": "bwDGBzZIHlKd",
        "outputId": "1812121f-fc66-4aef-8788-c940ebfeb2c8"
      },
      "source": [
        "import matplotlib.pyplot as plt\n",
        "epsilon=np.arange(0,10,1)\n",
        "plt.plot(epsilon,acc1,color='r',label='Source Test Accuracy')\n",
        "plt.plot(epsilon,acc2,color='g',label='Target Test Accuracy')\n",
        "\n",
        "plt.xlabel(\"Epsilon\")\n",
        "\n",
        "\n",
        "\n",
        "plt.ylabel(\"Accuracies\")\n",
        "plt.title(\"Test Accuracies\")\n",
        "plt.legend()\n",
        "  \n",
        "\n",
        "plt.show()\n",
        "print(acc1[len(acc1)-1],acc2[len(acc2)-1]) \n"
      ],
      "execution_count": null,
      "outputs": [
        {
          "output_type": "display_data",
          "data": {
            "image/png": "[encoded data removed]",
            "text/plain": [
              "<Figure size 432x288 with 1 Axes>"
            ]
          },
          "metadata": {
            "needs_background": "light"
          }
        },
        {
          "output_type": "stream",
          "name": "stdout",
          "text": [
            "0.9764801297648013 0.9683698296836983\n"
          ]
        }
      ]
    },
    {
      "cell_type": "code",
      "metadata": {
        "id": "7PH8NHWBhY0c"
      },
      "source": [
        ""
      ],
      "execution_count": null,
      "outputs": []
    }
  ]
}