{
  "nbformat": 4,
  "nbformat_minor": 0,
  "metadata": {
    "accelerator": "GPU",
    "colab": {
      "name": "FGSM.ipynb",
      "provenance": [],
      "collapsed_sections": [],
      "authorship_tag": "ABX9TyNv9Szf87i5DDN/4NTQdPYo",
      "include_colab_link": true
    },
    "kernelspec": {
      "display_name": "Python 3",
      "name": "python3"
    },
    "language_info": {
      "name": "python"
    },
    "widgets": {
      "application/vnd.jupyter.widget-state+json": {
        "fd32f6e22738481fb09a8ebc18c937a2": {
          "model_module": "@jupyter-widgets/controls",
          "model_name": "HBoxModel",
          "state": {
            "_view_name": "HBoxView",
            "_dom_classes": [],
            "_model_name": "HBoxModel",
            "_view_module": "@jupyter-widgets/controls",
            "_model_module_version": "1.5.0",
            "_view_count": null,
            "_view_module_version": "1.5.0",
            "box_style": "",
            "layout": "IPY_MODEL_4d4c1b522ef7495892ee33fa4c39038b",
            "_model_module": "@jupyter-widgets/controls",
            "children": [
              "IPY_MODEL_19101fb477494ef3969fecf29958c1c4",
              "IPY_MODEL_f1e546354cff447487bef95735291743"
            ]
          }
        },
        "4d4c1b522ef7495892ee33fa4c39038b": {
          "model_module": "@jupyter-widgets/base",
          "model_name": "LayoutModel",
          "state": {
            "_view_name": "LayoutView",
            "grid_template_rows": null,
            "right": null,
            "justify_content": null,
            "_view_module": "@jupyter-widgets/base",
            "overflow": null,
            "_model_module_version": "1.2.0",
            "_view_count": null,
            "flex_flow": null,
            "width": null,
            "min_width": null,
            "border": null,
            "align_items": null,
            "bottom": null,
            "_model_module": "@jupyter-widgets/base",
            "top": null,
            "grid_column": null,
            "overflow_y": null,
            "overflow_x": null,
            "grid_auto_flow": null,
            "grid_area": null,
            "grid_template_columns": null,
            "flex": null,
            "_model_name": "LayoutModel",
            "justify_items": null,
            "grid_row": null,
            "max_height": null,
            "align_content": null,
            "visibility": null,
            "align_self": null,
            "height": null,
            "min_height": null,
            "padding": null,
            "grid_auto_rows": null,
            "grid_gap": null,
            "max_width": null,
            "order": null,
            "_view_module_version": "1.2.0",
            "grid_template_areas": null,
            "object_position": null,
            "object_fit": null,
            "grid_auto_columns": null,
            "margin": null,
            "display": null,
            "left": null
          }
        },
        "19101fb477494ef3969fecf29958c1c4": {
          "model_module": "@jupyter-widgets/controls",
          "model_name": "FloatProgressModel",
          "state": {
            "_view_name": "ProgressView",
            "style": "IPY_MODEL_3e6f52bb03e94fd7a7fef00ca32e2681",
            "_dom_classes": [],
            "description": "",
            "_model_name": "FloatProgressModel",
            "bar_style": "success",
            "max": 170498071,
            "_view_module": "@jupyter-widgets/controls",
            "_model_module_version": "1.5.0",
            "value": 170498071,
            "_view_count": null,
            "_view_module_version": "1.5.0",
            "orientation": "horizontal",
            "min": 0,
            "description_tooltip": null,
            "_model_module": "@jupyter-widgets/controls",
            "layout": "IPY_MODEL_7af291b596bc48a2ab95696379c4befc"
          }
        },
        "f1e546354cff447487bef95735291743": {
          "model_module": "@jupyter-widgets/controls",
          "model_name": "HTMLModel",
          "state": {
            "_view_name": "HTMLView",
            "style": "IPY_MODEL_66143c1e79f84c8f9459b79617ef636f",
            "_dom_classes": [],
            "description": "",
            "_model_name": "HTMLModel",
            "placeholder": "​",
            "_view_module": "@jupyter-widgets/controls",
            "_model_module_version": "1.5.0",
            "value": " 170499072/? [00:34&lt;00:00, 4897826.55it/s]",
            "_view_count": null,
            "_view_module_version": "1.5.0",
            "description_tooltip": null,
            "_model_module": "@jupyter-widgets/controls",
            "layout": "IPY_MODEL_4b2468b6589c4174b148a43433954b2b"
          }
        },
        "3e6f52bb03e94fd7a7fef00ca32e2681": {
          "model_module": "@jupyter-widgets/controls",
          "model_name": "ProgressStyleModel",
          "state": {
            "_view_name": "StyleView",
            "_model_name": "ProgressStyleModel",
            "description_width": "initial",
            "_view_module": "@jupyter-widgets/base",
            "_model_module_version": "1.5.0",
            "_view_count": null,
            "_view_module_version": "1.2.0",
            "bar_color": null,
            "_model_module": "@jupyter-widgets/controls"
          }
        },
        "7af291b596bc48a2ab95696379c4befc": {
          "model_module": "@jupyter-widgets/base",
          "model_name": "LayoutModel",
          "state": {
            "_view_name": "LayoutView",
            "grid_template_rows": null,
            "right": null,
            "justify_content": null,
            "_view_module": "@jupyter-widgets/base",
            "overflow": null,
            "_model_module_version": "1.2.0",
            "_view_count": null,
            "flex_flow": null,
            "width": null,
            "min_width": null,
            "border": null,
            "align_items": null,
            "bottom": null,
            "_model_module": "@jupyter-widgets/base",
            "top": null,
            "grid_column": null,
            "overflow_y": null,
            "overflow_x": null,
            "grid_auto_flow": null,
            "grid_area": null,
            "grid_template_columns": null,
            "flex": null,
            "_model_name": "LayoutModel",
            "justify_items": null,
            "grid_row": null,
            "max_height": null,
            "align_content": null,
            "visibility": null,
            "align_self": null,
            "height": null,
            "min_height": null,
            "padding": null,
            "grid_auto_rows": null,
            "grid_gap": null,
            "max_width": null,
            "order": null,
            "_view_module_version": "1.2.0",
            "grid_template_areas": null,
            "object_position": null,
            "object_fit": null,
            "grid_auto_columns": null,
            "margin": null,
            "display": null,
            "left": null
          }
        },
        "66143c1e79f84c8f9459b79617ef636f": {
          "model_module": "@jupyter-widgets/controls",
          "model_name": "DescriptionStyleModel",
          "state": {
            "_view_name": "StyleView",
            "_model_name": "DescriptionStyleModel",
            "description_width": "",
            "_view_module": "@jupyter-widgets/base",
            "_model_module_version": "1.5.0",
            "_view_count": null,
            "_view_module_version": "1.2.0",
            "_model_module": "@jupyter-widgets/controls"
          }
        },
        "4b2468b6589c4174b148a43433954b2b": {
          "model_module": "@jupyter-widgets/base",
          "model_name": "LayoutModel",
          "state": {
            "_view_name": "LayoutView",
            "grid_template_rows": null,
            "right": null,
            "justify_content": null,
            "_view_module": "@jupyter-widgets/base",
            "overflow": null,
            "_model_module_version": "1.2.0",
            "_view_count": null,
            "flex_flow": null,
            "width": null,
            "min_width": null,
            "border": null,
            "align_items": null,
            "bottom": null,
            "_model_module": "@jupyter-widgets/base",
            "top": null,
            "grid_column": null,
            "overflow_y": null,
            "overflow_x": null,
            "grid_auto_flow": null,
            "grid_area": null,
            "grid_template_columns": null,
            "flex": null,
            "_model_name": "LayoutModel",
            "justify_items": null,
            "grid_row": null,
            "max_height": null,
            "align_content": null,
            "visibility": null,
            "align_self": null,
            "height": null,
            "min_height": null,
            "padding": null,
            "grid_auto_rows": null,
            "grid_gap": null,
            "max_width": null,
            "order": null,
            "_view_module_version": "1.2.0",
            "grid_template_areas": null,
            "object_position": null,
            "object_fit": null,
            "grid_auto_columns": null,
            "margin": null,
            "display": null,
            "left": null
          }
        }
      }
    }
  },
  "cells": [
    {
      "cell_type": "markdown",
      "metadata": {
        "id": "view-in-github",
        "colab_type": "text"
      },
      "source": [
        "<a href=\"https://colab.research.google.com/github/pragyasrivastava0805/congenial-journey/blob/main/FGSM.ipynb\" target=\"_parent\"><img src=\"https://colab.research.google.com/assets/colab-badge.svg\" alt=\"Open In Colab\"/></a>"
      ]
    },
    {
      "cell_type": "code",
      "metadata": {
        "id": "wMmr0wpE4PgH"
      },
      "source": [
        "import os\n",
        "import torch\n",
        "import torchvision\n",
        "\n",
        "from torch.utils.data import random_split\n",
        "from torchvision.datasets import ImageFolder\n",
        "from torchvision.transforms import ToTensor\n",
        "import torchvision.transforms as transforms\n",
        "import matplotlib.pyplot as plt\n",
        "from torchvision.utils import make_grid\n",
        "from torch.utils.data.dataloader import DataLoader\n",
        "from torchvision.utils import make_grid\n",
        "import torch.nn as nn\n",
        "import torch.nn.functional as F\n",
        "from torchvision import datasets"
      ],
      "execution_count": 1,
      "outputs": []
    },
    {
      "cell_type": "code",
      "metadata": {
        "colab": {
          "base_uri": "https://localhost:8080/",
          "height": 116,
          "referenced_widgets": [
            "fd32f6e22738481fb09a8ebc18c937a2",
            "4d4c1b522ef7495892ee33fa4c39038b",
            "19101fb477494ef3969fecf29958c1c4",
            "f1e546354cff447487bef95735291743",
            "3e6f52bb03e94fd7a7fef00ca32e2681",
            "7af291b596bc48a2ab95696379c4befc",
            "66143c1e79f84c8f9459b79617ef636f",
            "4b2468b6589c4174b148a43433954b2b"
          ]
        },
        "id": "gdmZ0cbK4SS5",
        "outputId": "51584e2e-20f0-4fcc-91bf-c54b564b84ce"
      },
      "source": [
        "transform_train = transforms.Compose([transforms.Resize((32,32)),  #resises the image so it can be perfect for our model.\n",
        "                                      transforms.RandomHorizontalFlip(), # FLips the image w.r.t horizontal axis\n",
        "                                      transforms.RandomRotation(10),     #Rotates the image to a specified angel\n",
        "                                      transforms.RandomAffine(0, shear=10, scale=(0.8,1.2)), #Performs actions like zooms, change shear angles.\n",
        "                                      transforms.ColorJitter(brightness=0.2, contrast=0.2, saturation=0.2), # Set the color params\n",
        "                                      transforms.ToTensor(), # comvert the image to tensor so that it can work with torch\n",
        "                                      transforms.Normalize((0.5, 0.5, 0.5), (0.5, 0.5, 0.5)) #Normalize all the images\n",
        "                               ])\n",
        " \n",
        " \n",
        "transform = transforms.Compose([transforms.Resize((32,32)),\n",
        "                               transforms.ToTensor(),\n",
        "                               transforms.Normalize((0.5, 0.5, 0.5), (0.5, 0.5, 0.5))\n",
        "                               ])\n",
        "training_dataset = datasets.CIFAR10(root='./data', train=True, download=True, transform=transform_train) # Data augmentation is only done on training images\n",
        "test_dataset = datasets.CIFAR10(root='./data', train=False, download=True, transform=transform)"
      ],
      "execution_count": 2,
      "outputs": [
        {
          "output_type": "stream",
          "text": [
            "Downloading https://www.cs.toronto.edu/~kriz/cifar-10-python.tar.gz to ./data/cifar-10-python.tar.gz\n"
          ],
          "name": "stdout"
        },
        {
          "output_type": "display_data",
          "data": {
            "application/vnd.jupyter.widget-view+json": {
              "model_id": "fd32f6e22738481fb09a8ebc18c937a2",
              "version_minor": 0,
              "version_major": 2
            },
            "text/plain": [
              "HBox(children=(FloatProgress(value=0.0, max=170498071.0), HTML(value='')))"
            ]
          },
          "metadata": {
            "tags": []
          }
        },
        {
          "output_type": "stream",
          "text": [
            "\n",
            "Extracting ./data/cifar-10-python.tar.gz to ./data\n",
            "Files already downloaded and verified\n"
          ],
          "name": "stdout"
        }
      ]
    },
    {
      "cell_type": "code",
      "metadata": {
        "colab": {
          "base_uri": "https://localhost:8080/"
        },
        "id": "WHWpGxmN4Woy",
        "outputId": "4fecefb3-6d52-4fbc-989d-ad1b8abaa85f"
      },
      "source": [
        "random_seed=42\n",
        "torch.manual_seed(random_seed);\n",
        "val_size = 5000\n",
        "train_size = len(training_dataset) - val_size\n",
        "train_ds, val_ds = random_split(training_dataset,[train_size, val_size],generator=torch.manual_seed(random_seed))\n",
        "len(train_ds), len(val_ds)\n"
      ],
      "execution_count": 3,
      "outputs": [
        {
          "output_type": "execute_result",
          "data": {
            "text/plain": [
              "(45000, 5000)"
            ]
          },
          "metadata": {
            "tags": []
          },
          "execution_count": 3
        }
      ]
    },
    {
      "cell_type": "code",
      "metadata": {
        "id": "dwZJNaz57I5F"
      },
      "source": [
        "training_loader = torch.utils.data.DataLoader(train_ds, batch_size=100, shuffle=True) # Batch size of 100 i.e to work with 100 images at a time\n",
        "validation_loader = torch.utils.data.DataLoader(val_ds, batch_size = 100, shuffle=False)"
      ],
      "execution_count": 4,
      "outputs": []
    },
    {
      "cell_type": "code",
      "metadata": {
        "id": "bAKt2K248B6A"
      },
      "source": [
        "def im_convert(tensor):  \n",
        "  image = tensor.cpu().clone().detach().numpy() # This process will happen in normal cpu.\n",
        "  image = image.transpose(1, 2, 0)\n",
        "  image = image * np.array((0.5, 0.5, 0.5)) + np.array((0.5, 0.5, 0.5))\n",
        "  image = image.clip(0, 1)\n",
        "  return image"
      ],
      "execution_count": 5,
      "outputs": []
    },
    {
      "cell_type": "code",
      "metadata": {
        "colab": {
          "base_uri": "https://localhost:8080/",
          "height": 268
        },
        "id": "HJv9kz7x8TEZ",
        "outputId": "525ecfb1-f1a2-49f0-8589-67800aa0f164"
      },
      "source": [
        "classes=training_dataset.classes\n",
        "classes\n",
        "import numpy as np\n",
        "dataiter = iter(training_loader) # converting our train_dataloader to iterable so that we can iter through it. \n",
        "images, labels = dataiter.next() #going from 1st batch of 100 images to the next batch\n",
        "fig = plt.figure(figsize=(25, 4)) \n",
        "\n",
        "# We plot 20 images from our train_dataset\n",
        "for idx in np.arange(20):\n",
        "  ax = fig.add_subplot(2, 10, idx+1, xticks=[], yticks=[]) \n",
        "  plt.imshow(im_convert(images[idx])) #converting to numpy array as plt needs it.\n",
        "  ax.set_title(classes[labels[idx].item()])"
      ],
      "execution_count": 6,
      "outputs": [
        {
          "output_type": "display_data",
          "data": {
            "image/png": "[encoded data removed]",
            "text/plain": [
              "<Figure size 1800x288 with 20 Axes>"
            ]
          },
          "metadata": {
            "tags": []
          }
        }
      ]
    },
    {
      "cell_type": "code",
      "metadata": {
        "id": "ULTNC3398hiI"
      },
      "source": [
        "class LeNet(nn.Module):\n",
        "    def __init__(self):\n",
        "      super().__init__()\n",
        "      self.conv1 = nn.Conv2d(3, 16, 3, 1, padding=1) # input is color image, hence 3 i/p channels. 16 filters, kernal size is tuned to 3 to avoid overfitting, stride is 1 , padding is 1 extract all edge features.\n",
        "      self.conv2 = nn.Conv2d(16, 32, 3, 1, padding=1) # We double the feature maps for every conv layer as in pratice it is really good.\n",
        "      self.conv3 = nn.Conv2d(32, 64, 3, 1, padding=1)\n",
        "      self.fc1 = nn.Linear(4*4*64, 500) # I/p image size is 32*32, after 3 MaxPooling layers it reduces to 4*4 and 64 because our last conv layer has 64 outputs. Output nodes is 500\n",
        "      self.dropout1 = nn.Dropout(0.5)\n",
        "      self.fc2 = nn.Linear(500, 10) # output nodes are 10 because our dataset have 10 different categories\n",
        "    def forward(self, x):\n",
        "      x = F.relu(self.conv1(x)) #Apply relu to each output of conv layer.\n",
        "      x = F.max_pool2d(x, 2, 2) # Max pooling layer with kernal of 2 and stride of 2\n",
        "      x = F.relu(self.conv2(x))\n",
        "      x = F.max_pool2d(x, 2, 2)\n",
        "      x = F.relu(self.conv3(x))\n",
        "      x = F.max_pool2d(x, 2, 2)\n",
        "      x = x.view(-1, 4*4*64) # flatten our images to 1D to input it to the fully connected layers\n",
        "      x = F.relu(self.fc1(x))\n",
        "      x = self.dropout1(x) # Applying dropout b/t layers which exchange highest parameters. This is a good practice\n",
        "      x = self.fc2(x)\n",
        "      return x"
      ],
      "execution_count": 7,
      "outputs": []
    },
    {
      "cell_type": "code",
      "metadata": {
        "colab": {
          "base_uri": "https://localhost:8080/"
        },
        "id": "ukjQaJnE9RG9",
        "outputId": "edea92e3-61f2-4603-b636-1408a41473a3"
      },
      "source": [
        "device = torch.device(\"cuda:0\" if torch.cuda.is_available() else \"cpu\")\n",
        "\n",
        "model = LeNet().to(device) # run our model on cuda GPU for faster results\n",
        "model"
      ],
      "execution_count": 8,
      "outputs": [
        {
          "output_type": "execute_result",
          "data": {
            "text/plain": [
              "LeNet(\n",
              "  (conv1): Conv2d(3, 16, kernel_size=(3, 3), stride=(1, 1), padding=(1, 1))\n",
              "  (conv2): Conv2d(16, 32, kernel_size=(3, 3), stride=(1, 1), padding=(1, 1))\n",
              "  (conv3): Conv2d(32, 64, kernel_size=(3, 3), stride=(1, 1), padding=(1, 1))\n",
              "  (fc1): Linear(in_features=1024, out_features=500, bias=True)\n",
              "  (dropout1): Dropout(p=0.5, inplace=False)\n",
              "  (fc2): Linear(in_features=500, out_features=10, bias=True)\n",
              ")"
            ]
          },
          "metadata": {
            "tags": []
          },
          "execution_count": 8
        }
      ]
    },
    {
      "cell_type": "code",
      "metadata": {
        "id": "cSPMQTXv9Va5"
      },
      "source": [
        "criterion = nn.CrossEntropyLoss() # same as categorical_crossentropy loss used in Keras models which runs on Tensorflow\n",
        "optimizer = torch.optim.Adam(model.parameters(), lr = 0.001) # fine tuned the lr"
      ],
      "execution_count": 9,
      "outputs": []
    },
    {
      "cell_type": "code",
      "metadata": {
        "colab": {
          "base_uri": "https://localhost:8080/"
        },
        "id": "F_PQcssw9lqG",
        "outputId": "6b31f93c-9bea-4cf3-aaab-87851d3584ac"
      },
      "source": [
        "epochs = 20\n",
        "running_loss_history = []\n",
        "running_corrects_history = []\n",
        "val_running_loss_history = []\n",
        "val_running_corrects_history = []\n",
        "\n",
        "for e in range(epochs): # training our model, put input according to every batch.\n",
        "  \n",
        "  running_loss = 0.0\n",
        "  running_corrects = 0.0\n",
        "  val_running_loss = 0.0\n",
        "  val_running_corrects = 0.0\n",
        "  \n",
        "  for inputs, labels in training_loader:\n",
        "    inputs = inputs.to(device) # input to device as our model is running in mentioned device.\n",
        "    labels = labels.to(device)\n",
        "    outputs = model(inputs) # every batch of 100 images are put as an input.\n",
        "    loss = criterion(outputs, labels) # Calc loss after each batch i/p by comparing it to actual labels. \n",
        "    \n",
        "    optimizer.zero_grad() #setting the initial gradient to 0\n",
        "    loss.backward() # backpropagating the loss\n",
        "    optimizer.step() # updating the weights and bias values for every single step.\n",
        "    \n",
        "    _, preds = torch.max(outputs, 1) # taking the highest value of prediction.\n",
        "    running_loss += loss.item()\n",
        "    running_corrects += torch.sum(preds == labels.data) # calculating te accuracy by taking the sum of all the correct predictions in a batch.\n",
        "\n",
        "  else:\n",
        "    with torch.no_grad(): # we do not need gradient for validation.\n",
        "      for val_inputs, val_labels in validation_loader:\n",
        "        val_inputs = val_inputs.to(device)\n",
        "        val_labels = val_labels.to(device)\n",
        "        val_outputs = model(val_inputs)\n",
        "        val_loss = criterion(val_outputs, val_labels)\n",
        "        \n",
        "        _, val_preds = torch.max(val_outputs, 1)\n",
        "        val_running_loss += val_loss.item()\n",
        "        val_running_corrects += torch.sum(val_preds == val_labels.data)\n",
        "      \n",
        "    epoch_loss = running_loss/len(training_loader) # loss per epoch\n",
        "    epoch_acc = running_corrects.float()/ len(training_loader) # accuracy per epoch\n",
        "    running_loss_history.append(epoch_loss) # appending for displaying \n",
        "    running_corrects_history.append(epoch_acc)\n",
        "    \n",
        "    val_epoch_loss = val_running_loss/len(validation_loader)\n",
        "    val_epoch_acc = val_running_corrects.float()/ len(validation_loader)\n",
        "    val_running_loss_history.append(val_epoch_loss)\n",
        "    val_running_corrects_history.append(val_epoch_acc)\n",
        "    print('epoch :', (e+1))\n",
        "    print('training loss: {:.4f}, acc {:.4f} '.format(epoch_loss, epoch_acc.item()))\n",
        "    print('validation loss: {:.4f}, validation acc {:.4f} '.format(val_epoch_loss, val_epoch_acc.item()))"
      ],
      "execution_count": 10,
      "outputs": [
        {
          "output_type": "stream",
          "text": [
            "epoch : 1\n",
            "training loss: 1.7185, acc 36.9822 \n",
            "validation loss: 1.5426, validation acc 44.0800 \n",
            "epoch : 2\n",
            "training loss: 1.4107, acc 49.0689 \n",
            "validation loss: 1.3485, validation acc 51.6800 \n",
            "epoch : 3\n",
            "training loss: 1.2870, acc 53.9400 \n",
            "validation loss: 1.2542, validation acc 55.4400 \n",
            "epoch : 4\n",
            "training loss: 1.2003, acc 57.5133 \n",
            "validation loss: 1.2003, validation acc 57.5200 \n",
            "epoch : 5\n",
            "training loss: 1.1317, acc 59.9844 \n",
            "validation loss: 1.1205, validation acc 61.0800 \n",
            "epoch : 6\n",
            "training loss: 1.0853, acc 61.8378 \n",
            "validation loss: 1.0665, validation acc 61.7400 \n",
            "epoch : 7\n",
            "training loss: 1.0390, acc 63.5311 \n",
            "validation loss: 1.0471, validation acc 62.4000 \n",
            "epoch : 8\n",
            "training loss: 1.0011, acc 64.7422 \n",
            "validation loss: 1.0450, validation acc 62.3400 \n",
            "epoch : 9\n",
            "training loss: 0.9765, acc 65.9111 \n",
            "validation loss: 1.0081, validation acc 65.0200 \n",
            "epoch : 10\n",
            "training loss: 0.9474, acc 66.7311 \n",
            "validation loss: 1.0049, validation acc 64.5800 \n",
            "epoch : 11\n",
            "training loss: 0.9232, acc 67.6622 \n",
            "validation loss: 0.9719, validation acc 66.3000 \n",
            "epoch : 12\n",
            "training loss: 0.9088, acc 68.3822 \n",
            "validation loss: 0.9381, validation acc 66.7600 \n",
            "epoch : 13\n",
            "training loss: 0.8854, acc 68.7911 \n",
            "validation loss: 0.9186, validation acc 67.9400 \n",
            "epoch : 14\n",
            "training loss: 0.8736, acc 69.2311 \n",
            "validation loss: 0.9226, validation acc 67.8600 \n",
            "epoch : 15\n",
            "training loss: 0.8639, acc 69.8800 \n",
            "validation loss: 0.9196, validation acc 68.3200 \n",
            "epoch : 16\n",
            "training loss: 0.8429, acc 70.3867 \n",
            "validation loss: 0.9070, validation acc 68.2600 \n",
            "epoch : 17\n",
            "training loss: 0.8375, acc 70.9444 \n",
            "validation loss: 0.9129, validation acc 67.6400 \n",
            "epoch : 18\n",
            "training loss: 0.8339, acc 71.0422 \n",
            "validation loss: 0.9031, validation acc 68.0000 \n",
            "epoch : 19\n",
            "training loss: 0.8203, acc 71.4067 \n",
            "validation loss: 0.8927, validation acc 69.8400 \n",
            "epoch : 20\n",
            "training loss: 0.8043, acc 71.6911 \n",
            "validation loss: 0.8780, validation acc 69.5000 \n"
          ],
          "name": "stdout"
        }
      ]
    },
    {
      "cell_type": "code",
      "metadata": {
        "colab": {
          "base_uri": "https://localhost:8080/"
        },
        "id": "Z4u_Y_gr92e0",
        "outputId": "b59601b9-b24e-4745-d5f3-170742b29695"
      },
      "source": [
        "test_loader = torch.utils.data.DataLoader(test_dataset, batch_size = 100, shuffle=False)\n",
        "batch_size=100\n",
        "with torch.no_grad():\n",
        "  n_correct=0\n",
        "  n_samples=0\n",
        "  n_class_correct=[0 for i in range(10)]\n",
        "  n_class_samples=[0 for i in range(10)]\n",
        "  for (images,labels) in test_loader:\n",
        "    images=images.to(device)\n",
        "    labels=labels.to(device)\n",
        "    outputs=model(images)\n",
        "    _,predicted=torch.max(outputs,1)\n",
        "    n_samples+=labels.size(0)\n",
        "    n_correct+=(labels==predicted).sum().item()\n",
        " \n",
        "  acc=100.0*n_correct/n_samples\n",
        "  print(f'accuracy',acc)"
      ],
      "execution_count": 22,
      "outputs": [
        {
          "output_type": "stream",
          "text": [
            "accuracy 73.56\n"
          ],
          "name": "stdout"
        }
      ]
    },
    {
      "cell_type": "code",
      "metadata": {
        "id": "Mpf5LwchL6HV"
      },
      "source": [
        "from torch.autograd import Variable\n",
        "alpha=1\n",
        "def fgsm_oneshot(x, y, targeted, eps, x_val_min, x_val_max):\n",
        "\n",
        "        eps=eps/255\n",
        "        x_adv = Variable(x.data, requires_grad=True)\n",
        "        outputs=model(x_adv)\n",
        "        _,pred=torch.max(outputs,1)\n",
        "        if targeted:\n",
        "            cost = criterion(outputs, y)\n",
        "        else:\n",
        "            cost = -criterion(outputs, y)\n",
        "\n",
        "        model.zero_grad()\n",
        "        if x_adv.grad is not None:\n",
        "            x_adv.grad.data.fill_(0)\n",
        "        cost.backward()\n",
        "\n",
        "        x_adv.grad.sign_()\n",
        "        x_adv = x_adv - eps*x_adv.grad\n",
        "        x_adv = torch.clamp(x_adv, x_val_min, x_val_max)\n",
        "\n",
        "\n",
        "        \n",
        "\n",
        "        return x_adv\n",
        "def fgsm_iter(x, y, eps):\n",
        "      x=x.to(device)\n",
        "      y=y.to(device)\n",
        "      clamp_max=255\n",
        "      iters=int(min(1.25*eps,eps+4))\n",
        "      eps = eps / 255\n",
        "      clamp_max = clamp_max / 255\n",
        "      for i in range(iters):\n",
        "        x.requires_grad=True\n",
        "        output=model(x)\n",
        "        model.zero_grad()\n",
        "        cost=criterion(output,y)\n",
        "        cost.backward()\n",
        "        attack_images = x + alpha*x.grad.sign()\n",
        "        a = torch.clamp(x - eps, min=0)\n",
        "        # b = max{a, X'}\n",
        "        b = (attack_images>=a).float()*attack_images + (a>attack_images).float()*a\n",
        "        # c = min{X+eps, b}\n",
        "        c = (b > x+eps).float()*(x+eps) + (x+eps >= b).float()*b\n",
        "        # d = min{255, c}\n",
        "        x = torch.clamp(c, max=clamp_max).detach_()\n",
        "      return x\n",
        "def llcm(images,eps):\n",
        "  images=images.to(device)\n",
        "  outputs=model(images)\n",
        "  _,labels=torch.min(outputs.data,1)\n",
        "  labels=labels.detach_()\n",
        "  clamp_max=255\n",
        "  iters = int(min(eps + 4, 1.25*eps))\n",
        "  eps = eps / 255\n",
        "  clamp_max = clamp_max / 255\n",
        "  for i in range(iters) :    \n",
        "        images.requires_grad = True\n",
        "        outputs = model(images)\n",
        "\n",
        "        model.zero_grad()\n",
        "        cost = criterion(outputs,labels)\n",
        "        cost.backward()\n",
        "\n",
        "        attack_images = images - alpha*images.grad.sign()\n",
        "        \n",
        "        # Clip attack images(X')\n",
        "        # min{255, X+eps, max{0, X-eps, X'}}\n",
        "        # = min{255, min{X+eps, max{max{0, X-eps}, X'}}}\n",
        "        \n",
        "        # a = max{0, X-eps}\n",
        "        a = torch.clamp(images - eps, min=0)\n",
        "        # b = max{a, X'}\n",
        "        b = (attack_images>=a).float()*attack_images + (a>attack_images).float()*a\n",
        "        # c = min{X+eps, b}\n",
        "        c = (b > images+eps).float()*(images+eps) + (images+eps >= b).float()*b\n",
        "        # d = min{255, c}\n",
        "        images = torch.clamp(c, max=clamp_max).detach_()\n",
        "    \n",
        "  return images\n",
        "  \n",
        "  \n",
        "\n"
      ],
      "execution_count": 29,
      "outputs": []
    },
    {
      "cell_type": "code",
      "metadata": {
        "id": "UXRH-BJmIu37"
      },
      "source": [
        "def test1( model, device, test_loader, epsilon ):\n",
        "  correct=0\n",
        "  tot=len(test_loader)\n",
        "  for (data, target) in test_loader:\n",
        "\n",
        "        # Send the data and label to the device\n",
        "    data, target = data.to(device), target.to(device)\n",
        "\n",
        "        # Set requires_grad attribute of tensor. Important for Attack\n",
        "    data.requires_grad = True\n",
        "\n",
        "        # Forward pass the data through the model\n",
        "    output = model(data)\n",
        "    _,init_pred = torch.max(output,1) # get the index of the max log-probability\n",
        "\n",
        "        # If the initial prediction is wrong, dont bother attacking, just move on\n",
        "  \n",
        "    loss = F.nll_loss(output, target)\n",
        "\n",
        "        # Zero all existing gradients\n",
        "   \n",
        "    model.zero_grad()\n",
        "    loss.backward()\n",
        "\n",
        "        # Collect datagrad\n",
        "    data_grad = data.grad.data\n",
        "    \n",
        "    p_img=fgsm_iter(data,target,epsilon)\n",
        "    output=model(p_img)\n",
        "    _,f_p=torch.max(output,1)\n",
        "    correct += (f_p.data.cpu() == target.data.cpu()).sum()\n",
        "        \n",
        "  final_acc = correct/float(len(test_dataset))\n",
        "  print(\"Epsilon: {}\\tTest Accuracy = {} / {} = {}\".format(epsilon, correct, len(test_dataset), final_acc))\n",
        "  return final_acc\n",
        "def test2( model, device, test_loader, epsilon ):\n",
        "  correct=0\n",
        "  tot=len(test_loader)\n",
        "  for (data, target) in test_loader:\n",
        "\n",
        "        # Send the data and label to the device\n",
        "    data, target = data.to(device), target.to(device)\n",
        "\n",
        "        # Set requires_grad attribute of tensor. Important for Attack\n",
        "    data.requires_grad = True\n",
        "\n",
        "        # Forward pass the data through the model\n",
        "    output = model(data)\n",
        "    _,init_pred = torch.max(output,1) # get the index of the max log-probability\n",
        "\n",
        "        # If the initial prediction is wrong, dont bother attacking, just move on\n",
        "  \n",
        "    loss = F.nll_loss(output, target)\n",
        "\n",
        "        # Zero all existing gradients\n",
        "   \n",
        "    model.zero_grad()\n",
        "    loss.backward()\n",
        "\n",
        "        # Collect datagrad\n",
        "    data_grad = data.grad.data\n",
        "    \n",
        "    p_img=fgsm_oneshot(data,target,False,epsilon,-1,1)\n",
        "    output=model(p_img)\n",
        "    _,f_p=torch.max(output,1)\n",
        "    correct += (f_p.data.cpu() == target.data.cpu()).sum()\n",
        "        \n",
        "  final_acc = correct/float(len(test_dataset))\n",
        "  print(\"Epsilon: {}\\tTest Accuracy = {} / {} = {}\".format(epsilon, correct, len(test_dataset), final_acc))\n",
        "  return final_acc\n",
        "def test3( model, device, test_loader, epsilon ):\n",
        "  correct=0\n",
        "  tot=len(test_loader)\n",
        "  for (data, target) in test_loader:\n",
        "\n",
        "        # Send the data and label to the device\n",
        "    data, target = data.to(device), target.to(device)\n",
        "\n",
        "        # Set requires_grad attribute of tensor. Important for Attack\n",
        "    data.requires_grad = True\n",
        "\n",
        "        # Forward pass the data through the model\n",
        "    output = model(data)\n",
        "    _,init_pred = torch.max(output,1) # get the index of the max log-probability\n",
        "\n",
        "        # If the initial prediction is wrong, dont bother attacking, just move on\n",
        "  \n",
        "    loss = F.nll_loss(output, target)\n",
        "\n",
        "        # Zero all existing gradients\n",
        "   \n",
        "    model.zero_grad()\n",
        "    loss.backward()\n",
        "\n",
        "        # Collect datagrad\n",
        "    data_grad = data.grad.data\n",
        "    \n",
        "    p_img=llcm(data,epsilon)\n",
        "    output=model(p_img)\n",
        "    _,f_p=torch.max(output,1)\n",
        "    correct += (f_p.data.cpu() == target.data.cpu()).sum()\n",
        "        \n",
        "  final_acc = correct/float(len(test_dataset))\n",
        "  print(\"Epsilon: {}\\tTest Accuracy = {} / {} = {}\".format(epsilon, correct, len(test_dataset), final_acc))\n",
        "  return final_acc\n",
        "\n",
        "\n"
      ],
      "execution_count": 30,
      "outputs": []
    },
    {
      "cell_type": "code",
      "metadata": {
        "colab": {
          "base_uri": "https://localhost:8080/"
        },
        "id": "uJNYmMJQMYg9",
        "outputId": "2da1af1b-bbdd-445b-d5d6-7f0691c7570b"
      },
      "source": [
        "accuracies1 = []\n",
        "accuracies2=[]\n",
        "accuracies3=[]\n",
        "epsilons=np.arange(0,20,2)\n",
        "\n",
        "# Run test for each epsilon\n",
        "for eps in epsilons:\n",
        "    acc1 = test1(model, device, test_loader, eps)\n",
        "    acc2=test2(model,device,test_loader,eps)\n",
        "    acc3=test3(model,device,test_loader,eps)\n",
        "    accuracies1.append(acc1)\n",
        "    accuracies2.append(acc2)\n",
        "    accuracies3.append(acc3)\n",
        "    "
      ],
      "execution_count": 33,
      "outputs": [
        {
          "output_type": "stream",
          "text": [
            "Epsilon: 0\tTest Accuracy = 7392 / 10000 = 0.7391999959945679\n",
            "Epsilon: 0\tTest Accuracy = 7384 / 10000 = 0.7383999824523926\n",
            "Epsilon: 0\tTest Accuracy = 7383 / 10000 = 0.7383000254631042\n",
            "Epsilon: 2\tTest Accuracy = 5941 / 10000 = 0.5940999984741211\n",
            "Epsilon: 2\tTest Accuracy = 5393 / 10000 = 0.5393000245094299\n",
            "Epsilon: 2\tTest Accuracy = 7538 / 10000 = 0.7537999749183655\n",
            "Epsilon: 4\tTest Accuracy = 1742 / 10000 = 0.17419999837875366\n",
            "Epsilon: 4\tTest Accuracy = 3853 / 10000 = 0.38530001044273376\n",
            "Epsilon: 4\tTest Accuracy = 5274 / 10000 = 0.527400016784668\n",
            "Epsilon: 6\tTest Accuracy = 399 / 10000 = 0.039900001138448715\n",
            "Epsilon: 6\tTest Accuracy = 2824 / 10000 = 0.2824000120162964\n",
            "Epsilon: 6\tTest Accuracy = 2315 / 10000 = 0.23149999976158142\n",
            "Epsilon: 8\tTest Accuracy = 44 / 10000 = 0.004399999976158142\n",
            "Epsilon: 8\tTest Accuracy = 2074 / 10000 = 0.20739999413490295\n",
            "Epsilon: 8\tTest Accuracy = 511 / 10000 = 0.051100000739097595\n",
            "Epsilon: 10\tTest Accuracy = 6 / 10000 = 0.0006000000284984708\n",
            "Epsilon: 10\tTest Accuracy = 1577 / 10000 = 0.15770000219345093\n",
            "Epsilon: 10\tTest Accuracy = 101 / 10000 = 0.010099999606609344\n",
            "Epsilon: 12\tTest Accuracy = 0 / 10000 = 0.0\n",
            "Epsilon: 12\tTest Accuracy = 1237 / 10000 = 0.12370000034570694\n",
            "Epsilon: 12\tTest Accuracy = 15 / 10000 = 0.001500000013038516\n",
            "Epsilon: 14\tTest Accuracy = 0 / 10000 = 0.0\n",
            "Epsilon: 14\tTest Accuracy = 936 / 10000 = 0.09359999746084213\n",
            "Epsilon: 14\tTest Accuracy = 14 / 10000 = 0.00139999995008111\n",
            "Epsilon: 16\tTest Accuracy = 0 / 10000 = 0.0\n",
            "Epsilon: 16\tTest Accuracy = 777 / 10000 = 0.07769999653100967\n",
            "Epsilon: 16\tTest Accuracy = 12 / 10000 = 0.0012000000569969416\n",
            "Epsilon: 18\tTest Accuracy = 0 / 10000 = 0.0\n",
            "Epsilon: 18\tTest Accuracy = 640 / 10000 = 0.06400000303983688\n",
            "Epsilon: 18\tTest Accuracy = 18 / 10000 = 0.0017999999690800905\n"
          ],
          "name": "stdout"
        }
      ]
    },
    {
      "cell_type": "code",
      "metadata": {
        "colab": {
          "base_uri": "https://localhost:8080/",
          "height": 295
        },
        "id": "13RVJYTEMyHO",
        "outputId": "ff7d11d1-1b3b-42aa-cacf-3d06e517a486"
      },
      "source": [
        "epsilon=np.arange(0,20,2)\n",
        "plt.plot(epsilon,accuracies1,color='r',label='Basic Iterative')\n",
        "plt.plot(epsilon,accuracies2,color='g',label='One_Shot')\n",
        "plt.plot(epsilon,accuracies3,color='b',label='least likely class  method')\n",
        "plt.xlabel(\"Epsilon\")\n",
        "plt.ylabel(\"Accuracies\")\n",
        "plt.title(\"Fast Gradient Sign Method Attacks\")\n",
        "plt.legend()\n",
        "  \n",
        "# To load the display window\n",
        "plt.show()"
      ],
      "execution_count": 35,
      "outputs": [
        {
          "output_type": "display_data",
          "data": {
            "image/png": "[encoded data removed]",
            "text/plain": [
              "<Figure size 432x288 with 1 Axes>"
            ]
          },
          "metadata": {
            "tags": [],
            "needs_background": "light"
          }
        }
      ]
    },
    {
      "cell_type": "code",
      "metadata": {
        "id": "QaHEszvQiyuE"
      },
      "source": [
        ""
      ],
      "execution_count": null,
      "outputs": []
    }
  ]
}