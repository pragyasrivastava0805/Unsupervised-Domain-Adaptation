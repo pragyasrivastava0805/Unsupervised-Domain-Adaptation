{
  "nbformat": 4,
  "nbformat_minor": 0,
  "metadata": {
    "colab": {
      "name": "CNN Implementation",
      "provenance": [],
      "collapsed_sections": [],
      "authorship_tag": "ABX9TyNNznG1xbpKUh3t88F/SV19",
      "include_colab_link": true
    },
    "kernelspec": {
      "name": "python3",
      "display_name": "Python 3"
    },
    "language_info": {
      "name": "python"
    }
  },
  "cells": [
    {
      "cell_type": "markdown",
      "metadata": {
        "id": "view-in-github",
        "colab_type": "text"
      },
      "source": [
        "<a href=\"https://colab.research.google.com/github/pragyasrivastava0805/congenial-journey/blob/main/CNN_Implementation.ipynb\" target=\"_parent\"><img src=\"https://colab.research.google.com/assets/colab-badge.svg\" alt=\"Open In Colab\"/></a>"
      ]
    },
    {
      "cell_type": "code",
      "metadata": {
        "id": "y6qZeTVtMT72"
      },
      "source": [
        "import torch \n",
        "import torch.nn as nn\n",
        "import torch.nn.functional as F\n",
        "import torchvision\n",
        "import torchvision.transforms as transforms\n",
        "import matplotlib.pyplot as plt\n",
        "import numpy as np"
      ],
      "execution_count": 5,
      "outputs": []
    },
    {
      "cell_type": "code",
      "metadata": {
        "colab": {
          "base_uri": "https://localhost:8080/"
        },
        "id": "sqFk3fwLNQLO",
        "outputId": "44673b43-bb6c-4c98-e0e6-9f7e218ea71e"
      },
      "source": [
        "#Device Configuration\n",
        "device=torch.device('cuda' if torch.cuda.is_available() else 'cpu')\n",
        "device"
      ],
      "execution_count": 7,
      "outputs": [
        {
          "output_type": "execute_result",
          "data": {
            "text/plain": [
              "device(type='cpu')"
            ]
          },
          "metadata": {
            "tags": []
          },
          "execution_count": 7
        }
      ]
    },
    {
      "cell_type": "code",
      "metadata": {
        "id": "UKAetXIRO15K"
      },
      "source": [
        "#HyperParameters\n",
        "num_epochs=4\n",
        "batch_size=4\n",
        "learning_rate=0.001"
      ],
      "execution_count": 8,
      "outputs": []
    },
    {
      "cell_type": "code",
      "metadata": {
        "colab": {
          "base_uri": "https://localhost:8080/"
        },
        "id": "o3hAas-PPC3A",
        "outputId": "6622cb46-3404-435a-cc41-6ca988b200a1"
      },
      "source": [
        "transform=transforms.Compose([transforms.ToTensor(),transforms.Normalize((0.5,0.5,0.5),(0.5,0.5,0.5))])\n",
        "train_dataset=torchvision.datasets.CIFAR10(root='./data',train=True,download=True,transform=transform)\n",
        "test_dataset=torchvision.datasets.CIFAR10(root='./data',train=False,download=True,transform=transform)\n",
        "train_loader=torch.utils.data.DataLoader(train_dataset,batch_size=batch_size,shuffle=True)\n",
        "test_loader=torch.utils.data.DataLoader(test_dataset,batch_size=batch_size,shuffle=True)\n",
        "classes=train_dataset.classes\n",
        "classes"
      ],
      "execution_count": 9,
      "outputs": [
        {
          "output_type": "stream",
          "text": [
            "Files already downloaded and verified\n",
            "Files already downloaded and verified\n"
          ],
          "name": "stdout"
        },
        {
          "output_type": "execute_result",
          "data": {
            "text/plain": [
              "['airplane',\n",
              " 'automobile',\n",
              " 'bird',\n",
              " 'cat',\n",
              " 'deer',\n",
              " 'dog',\n",
              " 'frog',\n",
              " 'horse',\n",
              " 'ship',\n",
              " 'truck']"
            ]
          },
          "metadata": {
            "tags": []
          },
          "execution_count": 9
        }
      ]
    },
    {
      "cell_type": "code",
      "metadata": {
        "colab": {
          "base_uri": "https://localhost:8080/"
        },
        "id": "4G786iPMT0c2",
        "outputId": "1e77dc6d-9fec-4947-b737-5e5f5b255259"
      },
      "source": [
        "class ConvNet(nn.Module):\n",
        "  def __init__(self):\n",
        "    super(ConvNet,self).__init__()\n",
        "    self.conv1=nn.Conv2d(3,6,5)\n",
        "    self.pool=nn.MaxPool2d(2,2)\n",
        "    self.conv2 = nn.Conv2d(6, 16, 5)\n",
        "    self.fc1 = nn.Linear(16 * 5 * 5, 120)\n",
        "    self.fc2 = nn.Linear(120, 84)\n",
        "    self.fc3 = nn.Linear(84, 10)\n",
        "  def forward(self,x):\n",
        "    x=self.pool(F.relu(self.conv1(x)))\n",
        "    x=self.pool(F.relu(self.conv2(x)))\n",
        "    x=x.view(-1,16*5*5)\n",
        "    x=F.relu(self.fc1(x))\n",
        "    x=F.relu(self.fc2(x))\n",
        "    x=self.fc3(x)\n",
        "    return x\n",
        "model=ConvNet().to(device)\n",
        "criterion=nn.CrossEntropyLoss()\n",
        "optimizer=torch.optim.SGD(model.parameters(),lr=learning_rate)\n",
        "\n",
        "total_steps=len(train_loader)\n",
        "for epoch in range(num_epochs):\n",
        "  for i,(images,labels) in enumerate(train_loader):\n",
        "    images=images.to(device)\n",
        "    labels=labels.to(device)\n",
        "    outputs=model(images)\n",
        "    loss=criterion(outputs,labels)\n",
        "    optimizer.zero_grad()\n",
        "    loss.backward()\n",
        "    optimizer.step()\n",
        "    if(i+1)%2000==0:\n",
        "      print(f'Epoch [{epoch+1}/{num_epochs}],Step[{i+1}/{total_steps}],Loss:{loss.item():.4f}')\n",
        "  print('Finished Training')\n",
        "  torch.save(model.state_dict(),'model.ckpt')\n",
        "  with torch.no_grad():\n",
        "    n_correct=0\n",
        "    n_samples=0\n",
        "    n_class_correct=[0 for i in range(10)]\n",
        "    n_class_samples=[0 for i in range(10)]\n",
        "    for (images,labels) in test_loader:\n",
        "      images=images.to(device)\n",
        "      labels=labels.to(device)\n",
        "      outputs=model(images)\n",
        "      _,predicted=torch.max(outputs,1)\n",
        "      n_samples+=labels.size(0)\n",
        "      n_correct+=(labels==predicted).sum().item()\n",
        "      for i in range(batch_size):\n",
        "        label=labels[i]\n",
        "        predict=predicted[i]\n",
        "        if(label==predict):\n",
        "          n_class_correct[i]+=1\n",
        "        n_class_samples[i]+=1\n",
        "    acc=100.0*n_correct/n_samples\n",
        "    print(len(n_class_samples))\n",
        "  \n"
      ],
      "execution_count": 18,
      "outputs": [
        {
          "output_type": "stream",
          "text": [
            "Epoch [1/4],Step[2000/12500],Loss:2.3215\n",
            "Epoch [1/4],Step[4000/12500],Loss:2.2852\n",
            "Epoch [1/4],Step[6000/12500],Loss:2.2909\n",
            "Epoch [1/4],Step[8000/12500],Loss:2.3182\n",
            "Epoch [1/4],Step[10000/12500],Loss:2.3065\n",
            "Epoch [1/4],Step[12000/12500],Loss:2.1319\n",
            "Finished Training\n",
            "10\n",
            "Epoch [2/4],Step[2000/12500],Loss:3.2575\n",
            "Epoch [2/4],Step[4000/12500],Loss:1.9576\n",
            "Epoch [2/4],Step[6000/12500],Loss:1.6043\n",
            "Epoch [2/4],Step[8000/12500],Loss:1.5116\n",
            "Epoch [2/4],Step[10000/12500],Loss:1.7453\n",
            "Epoch [2/4],Step[12000/12500],Loss:2.1947\n",
            "Finished Training\n",
            "10\n",
            "Epoch [3/4],Step[2000/12500],Loss:1.6999\n",
            "Epoch [3/4],Step[4000/12500],Loss:1.8950\n",
            "Epoch [3/4],Step[6000/12500],Loss:1.9488\n",
            "Epoch [3/4],Step[8000/12500],Loss:1.2559\n",
            "Epoch [3/4],Step[10000/12500],Loss:1.2678\n",
            "Epoch [3/4],Step[12000/12500],Loss:1.8027\n",
            "Finished Training\n",
            "10\n",
            "Epoch [4/4],Step[2000/12500],Loss:1.4282\n",
            "Epoch [4/4],Step[4000/12500],Loss:1.1442\n",
            "Epoch [4/4],Step[6000/12500],Loss:1.1718\n",
            "Epoch [4/4],Step[8000/12500],Loss:1.2452\n",
            "Epoch [4/4],Step[10000/12500],Loss:1.9883\n",
            "Epoch [4/4],Step[12000/12500],Loss:0.7320\n",
            "Finished Training\n",
            "10\n"
          ],
          "name": "stdout"
        }
      ]
    },
    {
      "cell_type": "code",
      "metadata": {
        "id": "eQqWpYsZoMI-"
      },
      "source": [
        ""
      ],
      "execution_count": null,
      "outputs": []
    }
  ]
}