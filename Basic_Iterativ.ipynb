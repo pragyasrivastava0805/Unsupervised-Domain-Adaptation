{
  "nbformat": 4,
  "nbformat_minor": 0,
  "metadata": {
    "accelerator": "GPU",
    "colab": {
      "name": "Basic_Iterativ.ipynb",
      "provenance": [],
      "collapsed_sections": [],
      "authorship_tag": "ABX9TyMMbxsoaVvdX1EWD+UyVGfy",
      "include_colab_link": true
    },
    "kernelspec": {
      "display_name": "Python 3",
      "name": "python3"
    },
    "language_info": {
      "name": "python"
    },
    "widgets": {
      "application/vnd.jupyter.widget-state+json": {
        "41a78ae8316a42e1a1ac5b480eb8ff0f": {
          "model_module": "@jupyter-widgets/controls",
          "model_name": "HBoxModel",
          "state": {
            "_dom_classes": [],
            "_model_module": "@jupyter-widgets/controls",
            "_model_module_version": "1.5.0",
            "_model_name": "HBoxModel",
            "_view_count": null,
            "_view_module": "@jupyter-widgets/controls",
            "_view_module_version": "1.5.0",
            "_view_name": "HBoxView",
            "box_style": "",
            "children": [
              "IPY_MODEL_e51c603d565f45e9bc223ce509f7ad88",
              "IPY_MODEL_4050d42ff4b64f2db881895c2d279ad1"
            ],
            "layout": "IPY_MODEL_0c3abf6f014a48b6a76ae6f5e51aed38"
          }
        },
        "e51c603d565f45e9bc223ce509f7ad88": {
          "model_module": "@jupyter-widgets/controls",
          "model_name": "FloatProgressModel",
          "state": {
            "_dom_classes": [],
            "_model_module": "@jupyter-widgets/controls",
            "_model_module_version": "1.5.0",
            "_model_name": "FloatProgressModel",
            "_view_count": null,
            "_view_module": "@jupyter-widgets/controls",
            "_view_module_version": "1.5.0",
            "_view_name": "ProgressView",
            "bar_style": "success",
            "description": "",
            "description_tooltip": null,
            "layout": "IPY_MODEL_dca3bafb6b9b48e39207aebfffab5e60",
            "max": 170498071,
            "min": 0,
            "orientation": "horizontal",
            "style": "IPY_MODEL_7048e290d4134e028993009ad6d8ecae",
            "value": 170498071
          }
        },
        "4050d42ff4b64f2db881895c2d279ad1": {
          "model_module": "@jupyter-widgets/controls",
          "model_name": "HTMLModel",
          "state": {
            "_dom_classes": [],
            "_model_module": "@jupyter-widgets/controls",
            "_model_module_version": "1.5.0",
            "_model_name": "HTMLModel",
            "_view_count": null,
            "_view_module": "@jupyter-widgets/controls",
            "_view_module_version": "1.5.0",
            "_view_name": "HTMLView",
            "description": "",
            "description_tooltip": null,
            "layout": "IPY_MODEL_d19389c978de47769cda1fd5abd1fadd",
            "placeholder": "​",
            "style": "IPY_MODEL_84e70395c23246a2bb4e7a9a3310c164",
            "value": " 170499072/? [00:51&lt;00:00, 3341616.69it/s]"
          }
        },
        "0c3abf6f014a48b6a76ae6f5e51aed38": {
          "model_module": "@jupyter-widgets/base",
          "model_name": "LayoutModel",
          "state": {
            "_model_module": "@jupyter-widgets/base",
            "_model_module_version": "1.2.0",
            "_model_name": "LayoutModel",
            "_view_count": null,
            "_view_module": "@jupyter-widgets/base",
            "_view_module_version": "1.2.0",
            "_view_name": "LayoutView",
            "align_content": null,
            "align_items": null,
            "align_self": null,
            "border": null,
            "bottom": null,
            "display": null,
            "flex": null,
            "flex_flow": null,
            "grid_area": null,
            "grid_auto_columns": null,
            "grid_auto_flow": null,
            "grid_auto_rows": null,
            "grid_column": null,
            "grid_gap": null,
            "grid_row": null,
            "grid_template_areas": null,
            "grid_template_columns": null,
            "grid_template_rows": null,
            "height": null,
            "justify_content": null,
            "justify_items": null,
            "left": null,
            "margin": null,
            "max_height": null,
            "max_width": null,
            "min_height": null,
            "min_width": null,
            "object_fit": null,
            "object_position": null,
            "order": null,
            "overflow": null,
            "overflow_x": null,
            "overflow_y": null,
            "padding": null,
            "right": null,
            "top": null,
            "visibility": null,
            "width": null
          }
        },
        "dca3bafb6b9b48e39207aebfffab5e60": {
          "model_module": "@jupyter-widgets/base",
          "model_name": "LayoutModel",
          "state": {
            "_model_module": "@jupyter-widgets/base",
            "_model_module_version": "1.2.0",
            "_model_name": "LayoutModel",
            "_view_count": null,
            "_view_module": "@jupyter-widgets/base",
            "_view_module_version": "1.2.0",
            "_view_name": "LayoutView",
            "align_content": null,
            "align_items": null,
            "align_self": null,
            "border": null,
            "bottom": null,
            "display": null,
            "flex": null,
            "flex_flow": null,
            "grid_area": null,
            "grid_auto_columns": null,
            "grid_auto_flow": null,
            "grid_auto_rows": null,
            "grid_column": null,
            "grid_gap": null,
            "grid_row": null,
            "grid_template_areas": null,
            "grid_template_columns": null,
            "grid_template_rows": null,
            "height": null,
            "justify_content": null,
            "justify_items": null,
            "left": null,
            "margin": null,
            "max_height": null,
            "max_width": null,
            "min_height": null,
            "min_width": null,
            "object_fit": null,
            "object_position": null,
            "order": null,
            "overflow": null,
            "overflow_x": null,
            "overflow_y": null,
            "padding": null,
            "right": null,
            "top": null,
            "visibility": null,
            "width": null
          }
        },
        "7048e290d4134e028993009ad6d8ecae": {
          "model_module": "@jupyter-widgets/controls",
          "model_name": "ProgressStyleModel",
          "state": {
            "_model_module": "@jupyter-widgets/controls",
            "_model_module_version": "1.5.0",
            "_model_name": "ProgressStyleModel",
            "_view_count": null,
            "_view_module": "@jupyter-widgets/base",
            "_view_module_version": "1.2.0",
            "_view_name": "StyleView",
            "bar_color": null,
            "description_width": "initial"
          }
        },
        "d19389c978de47769cda1fd5abd1fadd": {
          "model_module": "@jupyter-widgets/base",
          "model_name": "LayoutModel",
          "state": {
            "_model_module": "@jupyter-widgets/base",
            "_model_module_version": "1.2.0",
            "_model_name": "LayoutModel",
            "_view_count": null,
            "_view_module": "@jupyter-widgets/base",
            "_view_module_version": "1.2.0",
            "_view_name": "LayoutView",
            "align_content": null,
            "align_items": null,
            "align_self": null,
            "border": null,
            "bottom": null,
            "display": null,
            "flex": null,
            "flex_flow": null,
            "grid_area": null,
            "grid_auto_columns": null,
            "grid_auto_flow": null,
            "grid_auto_rows": null,
            "grid_column": null,
            "grid_gap": null,
            "grid_row": null,
            "grid_template_areas": null,
            "grid_template_columns": null,
            "grid_template_rows": null,
            "height": null,
            "justify_content": null,
            "justify_items": null,
            "left": null,
            "margin": null,
            "max_height": null,
            "max_width": null,
            "min_height": null,
            "min_width": null,
            "object_fit": null,
            "object_position": null,
            "order": null,
            "overflow": null,
            "overflow_x": null,
            "overflow_y": null,
            "padding": null,
            "right": null,
            "top": null,
            "visibility": null,
            "width": null
          }
        },
        "84e70395c23246a2bb4e7a9a3310c164": {
          "model_module": "@jupyter-widgets/controls",
          "model_name": "DescriptionStyleModel",
          "state": {
            "_model_module": "@jupyter-widgets/controls",
            "_model_module_version": "1.5.0",
            "_model_name": "DescriptionStyleModel",
            "_view_count": null,
            "_view_module": "@jupyter-widgets/base",
            "_view_module_version": "1.2.0",
            "_view_name": "StyleView",
            "description_width": ""
          }
        }
      }
    }
  },
  "cells": [
    {
      "cell_type": "markdown",
      "metadata": {
        "id": "view-in-github",
        "colab_type": "text"
      },
      "source": [
        "<a href=\"https://colab.research.google.com/github/pragyasrivastava0805/congenial-journey/blob/main/Basic_Iterativ.ipynb\" target=\"_parent\"><img src=\"https://colab.research.google.com/assets/colab-badge.svg\" alt=\"Open In Colab\"/></a>"
      ]
    },
    {
      "cell_type": "code",
      "metadata": {
        "id": "wMmr0wpE4PgH"
      },
      "source": [
        "import os\n",
        "import torch\n",
        "import torchvision\n",
        "\n",
        "from torch.utils.data import random_split\n",
        "from torchvision.datasets import ImageFolder\n",
        "from torchvision.transforms import ToTensor\n",
        "import torchvision.transforms as transforms\n",
        "import matplotlib.pyplot as plt\n",
        "from torchvision.utils import make_grid\n",
        "from torch.utils.data.dataloader import DataLoader\n",
        "from torchvision.utils import make_grid\n",
        "import torch.nn as nn\n",
        "import torch.nn.functional as F\n",
        "from torchvision import datasets"
      ],
      "execution_count": null,
      "outputs": []
    },
    {
      "cell_type": "code",
      "metadata": {
        "colab": {
          "base_uri": "https://localhost:8080/",
          "height": 116,
          "referenced_widgets": [
            "41a78ae8316a42e1a1ac5b480eb8ff0f",
            "e51c603d565f45e9bc223ce509f7ad88",
            "4050d42ff4b64f2db881895c2d279ad1",
            "0c3abf6f014a48b6a76ae6f5e51aed38",
            "dca3bafb6b9b48e39207aebfffab5e60",
            "7048e290d4134e028993009ad6d8ecae",
            "d19389c978de47769cda1fd5abd1fadd",
            "84e70395c23246a2bb4e7a9a3310c164"
          ]
        },
        "id": "gdmZ0cbK4SS5",
        "outputId": "c7b2c68e-8363-4cac-8bcc-ff433105d169"
      },
      "source": [
        "transform_train = transforms.Compose([transforms.Resize((32,32)),  #resises the image so it can be perfect for our model.\n",
        "                                      transforms.RandomHorizontalFlip(), # FLips the image w.r.t horizontal axis\n",
        "                                      transforms.RandomRotation(10),     #Rotates the image to a specified angel\n",
        "                                      transforms.RandomAffine(0, shear=10, scale=(0.8,1.2)), #Performs actions like zooms, change shear angles.\n",
        "                                      transforms.ColorJitter(brightness=0.2, contrast=0.2, saturation=0.2), # Set the color params\n",
        "                                      transforms.ToTensor(), # comvert the image to tensor so that it can work with torch\n",
        "                                      transforms.Normalize((0.5, 0.5, 0.5), (0.5, 0.5, 0.5)) #Normalize all the images\n",
        "                               ])\n",
        " \n",
        " \n",
        "transform = transforms.Compose([transforms.Resize((32,32)),\n",
        "                               transforms.ToTensor(),\n",
        "                               transforms.Normalize((0.5, 0.5, 0.5), (0.5, 0.5, 0.5))\n",
        "                               ])\n",
        "training_dataset = datasets.CIFAR10(root='./data', train=True, download=True, transform=transform_train) # Data augmentation is only done on training images\n",
        "test_dataset = datasets.CIFAR10(root='./data', train=False, download=True, transform=transform)"
      ],
      "execution_count": null,
      "outputs": [
        {
          "output_type": "stream",
          "text": [
            "Downloading https://www.cs.toronto.edu/~kriz/cifar-10-python.tar.gz to ./data/cifar-10-python.tar.gz\n"
          ],
          "name": "stdout"
        },
        {
          "output_type": "display_data",
          "data": {
            "application/vnd.jupyter.widget-view+json": {
              "model_id": "41a78ae8316a42e1a1ac5b480eb8ff0f",
              "version_major": 2,
              "version_minor": 0
            },
            "text/plain": [
              "HBox(children=(FloatProgress(value=0.0, max=170498071.0), HTML(value='')))"
            ]
          },
          "metadata": {
            "tags": []
          }
        },
        {
          "output_type": "stream",
          "text": [
            "\n",
            "Extracting ./data/cifar-10-python.tar.gz to ./data\n",
            "Files already downloaded and verified\n"
          ],
          "name": "stdout"
        }
      ]
    },
    {
      "cell_type": "code",
      "metadata": {
        "colab": {
          "base_uri": "https://localhost:8080/"
        },
        "id": "WHWpGxmN4Woy",
        "outputId": "594bef1e-09c2-47d9-8a5f-f3ba13447c13"
      },
      "source": [
        "random_seed=42\n",
        "torch.manual_seed(random_seed);\n",
        "val_size = 5000\n",
        "train_size = len(training_dataset) - val_size\n",
        "train_ds, val_ds = random_split(training_dataset,[train_size, val_size],generator=torch.manual_seed(random_seed))\n",
        "len(train_ds), len(val_ds)\n"
      ],
      "execution_count": null,
      "outputs": [
        {
          "output_type": "execute_result",
          "data": {
            "text/plain": [
              "(45000, 5000)"
            ]
          },
          "metadata": {
            "tags": []
          },
          "execution_count": 4
        }
      ]
    },
    {
      "cell_type": "code",
      "metadata": {
        "id": "dwZJNaz57I5F"
      },
      "source": [
        "training_loader = torch.utils.data.DataLoader(train_ds, batch_size=100, shuffle=True) # Batch size of 100 i.e to work with 100 images at a time\n",
        "validation_loader = torch.utils.data.DataLoader(val_ds, batch_size = 100, shuffle=False)"
      ],
      "execution_count": null,
      "outputs": []
    },
    {
      "cell_type": "code",
      "metadata": {
        "id": "bAKt2K248B6A"
      },
      "source": [
        "def im_convert(tensor):  \n",
        "  image = tensor.cpu().clone().detach().numpy() # This process will happen in normal cpu.\n",
        "  image = image.transpose(1, 2, 0)\n",
        "  image = image * np.array((0.5, 0.5, 0.5)) + np.array((0.5, 0.5, 0.5))\n",
        "  image = image.clip(0, 1)\n",
        "  return image"
      ],
      "execution_count": null,
      "outputs": []
    },
    {
      "cell_type": "code",
      "metadata": {
        "colab": {
          "base_uri": "https://localhost:8080/",
          "height": 268
        },
        "id": "HJv9kz7x8TEZ",
        "outputId": "862f1cda-752d-46bd-b2a1-cbf3d93e2f76"
      },
      "source": [
        "classes=training_dataset.classes\n",
        "classes\n",
        "import numpy as np\n",
        "dataiter = iter(training_loader) # converting our train_dataloader to iterable so that we can iter through it. \n",
        "images, labels = dataiter.next() #going from 1st batch of 100 images to the next batch\n",
        "fig = plt.figure(figsize=(25, 4)) \n",
        "\n",
        "# We plot 20 images from our train_dataset\n",
        "for idx in np.arange(20):\n",
        "  ax = fig.add_subplot(2, 10, idx+1, xticks=[], yticks=[]) \n",
        "  plt.imshow(im_convert(images[idx])) #converting to numpy array as plt needs it.\n",
        "  ax.set_title(classes[labels[idx].item()])"
      ],
      "execution_count": null,
      "outputs": [
        {
          "output_type": "display_data",
          "data": {
            "image/png": "[encoded data removed]",
            "text/plain": [
              "<Figure size 1800x288 with 20 Axes>"
            ]
          },
          "metadata": {
            "tags": []
          }
        }
      ]
    },
    {
      "cell_type": "code",
      "metadata": {
        "id": "ULTNC3398hiI"
      },
      "source": [
        "class LeNet(nn.Module):\n",
        "    def __init__(self):\n",
        "      super().__init__()\n",
        "      self.conv1 = nn.Conv2d(3, 16, 3, 1, padding=1) # input is color image, hence 3 i/p channels. 16 filters, kernal size is tuned to 3 to avoid overfitting, stride is 1 , padding is 1 extract all edge features.\n",
        "      self.conv2 = nn.Conv2d(16, 32, 3, 1, padding=1) # We double the feature maps for every conv layer as in pratice it is really good.\n",
        "      self.conv3 = nn.Conv2d(32, 64, 3, 1, padding=1)\n",
        "      self.fc1 = nn.Linear(4*4*64, 500) # I/p image size is 32*32, after 3 MaxPooling layers it reduces to 4*4 and 64 because our last conv layer has 64 outputs. Output nodes is 500\n",
        "      self.dropout1 = nn.Dropout(0.5)\n",
        "      self.fc2 = nn.Linear(500, 10) # output nodes are 10 because our dataset have 10 different categories\n",
        "    def forward(self, x):\n",
        "      x = F.relu(self.conv1(x)) #Apply relu to each output of conv layer.\n",
        "      x = F.max_pool2d(x, 2, 2) # Max pooling layer with kernal of 2 and stride of 2\n",
        "      x = F.relu(self.conv2(x))\n",
        "      x = F.max_pool2d(x, 2, 2)\n",
        "      x = F.relu(self.conv3(x))\n",
        "      x = F.max_pool2d(x, 2, 2)\n",
        "      x = x.view(-1, 4*4*64) # flatten our images to 1D to input it to the fully connected layers\n",
        "      x = F.relu(self.fc1(x))\n",
        "      x = self.dropout1(x) # Applying dropout b/t layers which exchange highest parameters. This is a good practice\n",
        "      x = self.fc2(x)\n",
        "      return x"
      ],
      "execution_count": null,
      "outputs": []
    },
    {
      "cell_type": "code",
      "metadata": {
        "colab": {
          "base_uri": "https://localhost:8080/"
        },
        "id": "ukjQaJnE9RG9",
        "outputId": "de79bb2a-2316-4e3e-9b1a-d7dfdbbff377"
      },
      "source": [
        "device = torch.device(\"cuda:0\" if torch.cuda.is_available() else \"cpu\")\n",
        "\n",
        "model = LeNet().to(device) # run our model on cuda GPU for faster results\n",
        "model"
      ],
      "execution_count": null,
      "outputs": [
        {
          "output_type": "execute_result",
          "data": {
            "text/plain": [
              "LeNet(\n",
              "  (conv1): Conv2d(3, 16, kernel_size=(3, 3), stride=(1, 1), padding=(1, 1))\n",
              "  (conv2): Conv2d(16, 32, kernel_size=(3, 3), stride=(1, 1), padding=(1, 1))\n",
              "  (conv3): Conv2d(32, 64, kernel_size=(3, 3), stride=(1, 1), padding=(1, 1))\n",
              "  (fc1): Linear(in_features=1024, out_features=500, bias=True)\n",
              "  (dropout1): Dropout(p=0.5, inplace=False)\n",
              "  (fc2): Linear(in_features=500, out_features=10, bias=True)\n",
              ")"
            ]
          },
          "metadata": {
            "tags": []
          },
          "execution_count": 9
        }
      ]
    },
    {
      "cell_type": "code",
      "metadata": {
        "id": "cSPMQTXv9Va5"
      },
      "source": [
        "criterion = nn.CrossEntropyLoss() # same as categorical_crossentropy loss used in Keras models which runs on Tensorflow\n",
        "optimizer = torch.optim.Adam(model.parameters(), lr = 0.001) # fine tuned the lr"
      ],
      "execution_count": null,
      "outputs": []
    },
    {
      "cell_type": "code",
      "metadata": {
        "colab": {
          "background_save": true,
          "base_uri": "https://localhost:8080/"
        },
        "id": "F_PQcssw9lqG",
        "outputId": "cd52a09b-7320-4053-9c90-81fb58b3ce82"
      },
      "source": [
        "epochs = 20\n",
        "running_loss_history = []\n",
        "running_corrects_history = []\n",
        "val_running_loss_history = []\n",
        "val_running_corrects_history = []\n",
        "\n",
        "for e in range(epochs): # training our model, put input according to every batch.\n",
        "  \n",
        "  running_loss = 0.0\n",
        "  running_corrects = 0.0\n",
        "  val_running_loss = 0.0\n",
        "  val_running_corrects = 0.0\n",
        "  \n",
        "  for inputs, labels in training_loader:\n",
        "    inputs = inputs.to(device) # input to device as our model is running in mentioned device.\n",
        "    labels = labels.to(device)\n",
        "    outputs = model(inputs) # every batch of 100 images are put as an input.\n",
        "    loss = criterion(outputs, labels) # Calc loss after each batch i/p by comparing it to actual labels. \n",
        "    \n",
        "    optimizer.zero_grad() #setting the initial gradient to 0\n",
        "    loss.backward() # backpropagating the loss\n",
        "    optimizer.step() # updating the weights and bias values for every single step.\n",
        "    \n",
        "    _, preds = torch.max(outputs, 1) # taking the highest value of prediction.\n",
        "    running_loss += loss.item()\n",
        "    running_corrects += torch.sum(preds == labels.data) # calculating te accuracy by taking the sum of all the correct predictions in a batch.\n",
        "\n",
        "  else:\n",
        "    with torch.no_grad(): # we do not need gradient for validation.\n",
        "      for val_inputs, val_labels in validation_loader:\n",
        "        val_inputs = val_inputs.to(device)\n",
        "        val_labels = val_labels.to(device)\n",
        "        val_outputs = model(val_inputs)\n",
        "        val_loss = criterion(val_outputs, val_labels)\n",
        "        \n",
        "        _, val_preds = torch.max(val_outputs, 1)\n",
        "        val_running_loss += val_loss.item()\n",
        "        val_running_corrects += torch.sum(val_preds == val_labels.data)\n",
        "      \n",
        "    epoch_loss = running_loss/len(training_loader) # loss per epoch\n",
        "    epoch_acc = running_corrects.float()/ len(training_loader) # accuracy per epoch\n",
        "    running_loss_history.append(epoch_loss) # appending for displaying \n",
        "    running_corrects_history.append(epoch_acc)\n",
        "    \n",
        "    val_epoch_loss = val_running_loss/len(validation_loader)\n",
        "    val_epoch_acc = val_running_corrects.float()/ len(validation_loader)\n",
        "    val_running_loss_history.append(val_epoch_loss)\n",
        "    val_running_corrects_history.append(val_epoch_acc)\n",
        "    print('epoch :', (e+1))\n",
        "    print('training loss: {:.4f}, acc {:.4f} '.format(epoch_loss, epoch_acc.item()))\n",
        "    print('validation loss: {:.4f}, validation acc {:.4f} '.format(val_epoch_loss, val_epoch_acc.item()))"
      ],
      "execution_count": null,
      "outputs": [
        {
          "output_type": "stream",
          "text": [
            "epoch : 1\n",
            "training loss: 1.7164, acc 37.1467 \n",
            "validation loss: 1.5440, validation acc 43.9800 \n",
            "epoch : 2\n",
            "training loss: 1.4082, acc 49.1867 \n",
            "validation loss: 1.3470, validation acc 51.7600 \n",
            "epoch : 3\n",
            "training loss: 1.2760, acc 54.0933 \n",
            "validation loss: 1.2182, validation acc 55.9800 \n",
            "epoch : 4\n",
            "training loss: 1.1884, acc 58.0089 \n",
            "validation loss: 1.1788, validation acc 58.2600 \n",
            "epoch : 5\n",
            "training loss: 1.1172, acc 60.4867 \n",
            "validation loss: 1.1306, validation acc 60.0600 \n",
            "epoch : 6\n",
            "training loss: 1.0651, acc 62.4267 \n",
            "validation loss: 1.0843, validation acc 62.1000 \n",
            "epoch : 7\n",
            "training loss: 1.0253, acc 63.9089 \n",
            "validation loss: 1.0297, validation acc 62.7400 \n",
            "epoch : 8\n",
            "training loss: 0.9919, acc 65.3267 \n",
            "validation loss: 1.0162, validation acc 63.7800 \n",
            "epoch : 9\n",
            "training loss: 0.9709, acc 65.9289 \n",
            "validation loss: 0.9562, validation acc 66.5000 \n",
            "epoch : 10\n",
            "training loss: 0.9440, acc 67.0800 \n",
            "validation loss: 0.9691, validation acc 65.6600 \n",
            "epoch : 11\n",
            "training loss: 0.9246, acc 67.5622 \n",
            "validation loss: 0.9458, validation acc 66.5400 \n",
            "epoch : 12\n",
            "training loss: 0.9070, acc 68.3089 \n",
            "validation loss: 0.9640, validation acc 66.6600 \n",
            "epoch : 13\n",
            "training loss: 0.8952, acc 68.6978 \n",
            "validation loss: 0.9073, validation acc 67.9800 \n",
            "epoch : 14\n",
            "training loss: 0.8730, acc 69.5378 \n",
            "validation loss: 0.9083, validation acc 68.6200 \n",
            "epoch : 15\n",
            "training loss: 0.8586, acc 69.8178 \n",
            "validation loss: 0.9307, validation acc 67.4200 \n",
            "epoch : 16\n",
            "training loss: 0.8510, acc 70.1822 \n",
            "validation loss: 0.9023, validation acc 68.9000 \n",
            "epoch : 17\n",
            "training loss: 0.8312, acc 70.8911 \n",
            "validation loss: 0.9010, validation acc 68.9600 \n",
            "epoch : 18\n",
            "training loss: 0.8317, acc 70.9533 \n",
            "validation loss: 0.8960, validation acc 69.1200 \n",
            "epoch : 19\n",
            "training loss: 0.8092, acc 71.9689 \n",
            "validation loss: 0.8831, validation acc 69.0800 \n",
            "epoch : 20\n",
            "training loss: 0.8002, acc 71.8133 \n",
            "validation loss: 0.9072, validation acc 68.3400 \n"
          ],
          "name": "stdout"
        }
      ]
    },
    {
      "cell_type": "code",
      "metadata": {
        "colab": {
          "base_uri": "https://localhost:8080/"
        },
        "id": "Z4u_Y_gr92e0",
        "outputId": "6ded0e53-ea2e-414c-a2cc-fb43210a7f28"
      },
      "source": [
        "test_loader = torch.utils.data.DataLoader(test_dataset, batch_size = 100, shuffle=False)\n",
        "batch_size=100\n",
        "with torch.no_grad():\n",
        "  n_correct=0\n",
        "  n_samples=0\n",
        "  n_class_correct=[0 for i in range(10)]\n",
        "  n_class_samples=[0 for i in range(10)]\n",
        "  for (images,labels) in test_loader:\n",
        "    images=images.to(device)\n",
        "    labels=labels.to(device)\n",
        "    outputs=model(images)\n",
        "    _,predicted=torch.max(outputs,1)\n",
        "    n_samples+=labels.size(0)\n",
        "    n_correct+=(labels==predicted).sum().item()\n",
        " \n",
        "  acc=100.0*n_correct/n_samples\n",
        "  print(f'accuracy',acc)"
      ],
      "execution_count": null,
      "outputs": [
        {
          "output_type": "stream",
          "text": [
            "accuracy 73.61\n"
          ],
          "name": "stdout"
        }
      ]
    },
    {
      "cell_type": "code",
      "metadata": {
        "id": "Mpf5LwchL6HV"
      },
      "source": [
        "from torch.autograd import Variable\n",
        "alpha=1\n",
        "eps=4\n",
        "def fgsm(x, y, eps):\n",
        "      x=x.to(device)\n",
        "      y=y.to(device)\n",
        "      clamp_max=255\n",
        "      iters=int(min(1.25*eps,eps+4))\n",
        "      eps = eps / 255\n",
        "      clamp_max = clamp_max / 255\n",
        "      for i in range(iters):\n",
        "        x.requires_grad=True\n",
        "        output=model(x)\n",
        "        model.zero_grad()\n",
        "        cost=criterion(output,y)\n",
        "        cost.backward()\n",
        "        attack_images = x + alpha*x.grad.sign()\n",
        "        a = torch.clamp(x - eps, min=0)\n",
        "        # b = max{a, X'}\n",
        "        b = (attack_images>=a).float()*attack_images + (a>attack_images).float()*a\n",
        "        # c = min{X+eps, b}\n",
        "        c = (b > x+eps).float()*(x+eps) + (x+eps >= b).float()*b\n",
        "        # d = min{255, c}\n",
        "        x = torch.clamp(c, max=clamp_max).detach_()\n",
        "      return x    \n"
      ],
      "execution_count": null,
      "outputs": []
    },
    {
      "cell_type": "code",
      "metadata": {
        "id": "UXRH-BJmIu37"
      },
      "source": [
        "def test( model, device, test_loader, epsilon ):\n",
        "  correct=0\n",
        "  tot=len(test_loader)\n",
        "  for (data, target) in test_loader:\n",
        "\n",
        "        # Send the data and label to the device\n",
        "    data, target = data.to(device), target.to(device)\n",
        "\n",
        "        # Set requires_grad attribute of tensor. Important for Attack\n",
        "    data.requires_grad = True\n",
        "\n",
        "        # Forward pass the data through the model\n",
        "    output = model(data)\n",
        "    _,init_pred = torch.max(output,1) # get the index of the max log-probability\n",
        "\n",
        "        # If the initial prediction is wrong, dont bother attacking, just move on\n",
        "  \n",
        "    loss = F.nll_loss(output, target)\n",
        "\n",
        "        # Zero all existing gradients\n",
        "   \n",
        "    model.zero_grad()\n",
        "    loss.backward()\n",
        "\n",
        "        # Collect datagrad\n",
        "    data_grad = data.grad.data\n",
        "    \n",
        "    p_img=fgsm(data,target,eps)\n",
        "    output=model(p_img)\n",
        "    _,f_p=torch.max(output,1)\n",
        "    correct += (f_p.data.cpu() == target.data.cpu()).sum()\n",
        "        \n",
        "  final_acc = correct/float(len(test_dataset))\n",
        "  print(\"Epsilon: {}\\tTest Accuracy = {} / {} = {}\".format(epsilon, correct, len(test_dataset), final_acc))\n",
        "  return final_acc\n",
        "\n",
        "\n"
      ],
      "execution_count": null,
      "outputs": []
    },
    {
      "cell_type": "code",
      "metadata": {
        "colab": {
          "base_uri": "https://localhost:8080/"
        },
        "id": "uJNYmMJQMYg9",
        "outputId": "7c3da0d0-9992-41ca-dd5f-d6b073ece434"
      },
      "source": [
        "accuracies = []\n",
        "epsilons=np.arange(0,20,2)\n",
        "\n",
        "# Run test for each epsilon\n",
        "for eps in epsilons:\n",
        "    acc = test(model, device, test_loader, eps)\n",
        "    accuracies.append(acc)\n",
        "    "
      ],
      "execution_count": null,
      "outputs": [
        {
          "output_type": "stream",
          "text": [
            "Epsilon: 0\tTest Accuracy = 7370 / 10000 = 0.7369999885559082\n",
            "Epsilon: 2\tTest Accuracy = 5943 / 10000 = 0.5942999720573425\n",
            "Epsilon: 4\tTest Accuracy = 1759 / 10000 = 0.17589999735355377\n",
            "Epsilon: 6\tTest Accuracy = 342 / 10000 = 0.03420000150799751\n",
            "Epsilon: 8\tTest Accuracy = 37 / 10000 = 0.003700000001117587\n",
            "Epsilon: 10\tTest Accuracy = 4 / 10000 = 0.00039999998989515007\n",
            "Epsilon: 12\tTest Accuracy = 0 / 10000 = 0.0\n",
            "Epsilon: 14\tTest Accuracy = 0 / 10000 = 0.0\n",
            "Epsilon: 16\tTest Accuracy = 0 / 10000 = 0.0\n",
            "Epsilon: 18\tTest Accuracy = 0 / 10000 = 0.0\n"
          ],
          "name": "stdout"
        }
      ]
    },
    {
      "cell_type": "code",
      "metadata": {
        "colab": {
          "base_uri": "https://localhost:8080/",
          "height": 621
        },
        "id": "13RVJYTEMyHO",
        "outputId": "20de7daa-4626-4c5c-c653-27d6c904298c"
      },
      "source": [
        "plt.figure(figsize=(10,10))\n",
        "plt.plot(epsilons, accuracies, \"*-\")\n",
        "plt.yticks(np.arange(0, 1.1, step=0.02))\n",
        "plt.xticks(np.arange(0, 20, step=2))\n",
        "plt.title(\"Accuracy vs Epsilon\")\n",
        "plt.xlabel(\"Epsilon\")\n",
        "plt.ylabel(\"Accuracy\")\n",
        "plt.show()"
      ],
      "execution_count": null,
      "outputs": [
        {
          "output_type": "display_data",
          "data": {
            "image/png": "[encoded data removed]",
            "text/plain": [
              "<Figure size 720x720 with 1 Axes>"
            ]
          },
          "metadata": {
            "tags": []
          }
        }
      ]
    },
    {
      "cell_type": "code",
      "metadata": {
        "id": "QaHEszvQiyuE"
      },
      "source": [
        ""
      ],
      "execution_count": null,
      "outputs": []
    }
  ]
}