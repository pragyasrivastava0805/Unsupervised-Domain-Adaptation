{
  "nbformat": 4,
  "nbformat_minor": 0,
  "metadata": {
    "colab": {
      "name": "FGSM_OneShotNonTargetted.ipynb",
      "provenance": [],
      "collapsed_sections": [],
      "authorship_tag": "ABX9TyOWCPJAD1CQFTO3oJq/otOM",
      "include_colab_link": true
    },
    "kernelspec": {
      "name": "python3",
      "display_name": "Python 3"
    },
    "language_info": {
      "name": "python"
    },
    "accelerator": "GPU",
    "widgets": {
      "application/vnd.jupyter.widget-state+json": {
        "33edea19b8c24ab68106115568fc1cd9": {
          "model_module": "@jupyter-widgets/controls",
          "model_name": "HBoxModel",
          "state": {
            "_view_name": "HBoxView",
            "_dom_classes": [],
            "_model_name": "HBoxModel",
            "_view_module": "@jupyter-widgets/controls",
            "_model_module_version": "1.5.0",
            "_view_count": null,
            "_view_module_version": "1.5.0",
            "box_style": "",
            "layout": "IPY_MODEL_cb24bb907e78462f8b05529dd45e87c5",
            "_model_module": "@jupyter-widgets/controls",
            "children": [
              "IPY_MODEL_cc4fe6e4dd594a1b93af46bc7b1c4e10",
              "IPY_MODEL_cdd3c224fe0244a2a171dd4e9e72750d"
            ]
          }
        },
        "cb24bb907e78462f8b05529dd45e87c5": {
          "model_module": "@jupyter-widgets/base",
          "model_name": "LayoutModel",
          "state": {
            "_view_name": "LayoutView",
            "grid_template_rows": null,
            "right": null,
            "justify_content": null,
            "_view_module": "@jupyter-widgets/base",
            "overflow": null,
            "_model_module_version": "1.2.0",
            "_view_count": null,
            "flex_flow": null,
            "width": null,
            "min_width": null,
            "border": null,
            "align_items": null,
            "bottom": null,
            "_model_module": "@jupyter-widgets/base",
            "top": null,
            "grid_column": null,
            "overflow_y": null,
            "overflow_x": null,
            "grid_auto_flow": null,
            "grid_area": null,
            "grid_template_columns": null,
            "flex": null,
            "_model_name": "LayoutModel",
            "justify_items": null,
            "grid_row": null,
            "max_height": null,
            "align_content": null,
            "visibility": null,
            "align_self": null,
            "height": null,
            "min_height": null,
            "padding": null,
            "grid_auto_rows": null,
            "grid_gap": null,
            "max_width": null,
            "order": null,
            "_view_module_version": "1.2.0",
            "grid_template_areas": null,
            "object_position": null,
            "object_fit": null,
            "grid_auto_columns": null,
            "margin": null,
            "display": null,
            "left": null
          }
        },
        "cc4fe6e4dd594a1b93af46bc7b1c4e10": {
          "model_module": "@jupyter-widgets/controls",
          "model_name": "FloatProgressModel",
          "state": {
            "_view_name": "ProgressView",
            "style": "IPY_MODEL_749815f680064f6f8ea8bfc396ba99c7",
            "_dom_classes": [],
            "description": "",
            "_model_name": "FloatProgressModel",
            "bar_style": "success",
            "max": 170498071,
            "_view_module": "@jupyter-widgets/controls",
            "_model_module_version": "1.5.0",
            "value": 170498071,
            "_view_count": null,
            "_view_module_version": "1.5.0",
            "orientation": "horizontal",
            "min": 0,
            "description_tooltip": null,
            "_model_module": "@jupyter-widgets/controls",
            "layout": "IPY_MODEL_704013339e834a6c93929fce93bea2ab"
          }
        },
        "cdd3c224fe0244a2a171dd4e9e72750d": {
          "model_module": "@jupyter-widgets/controls",
          "model_name": "HTMLModel",
          "state": {
            "_view_name": "HTMLView",
            "style": "IPY_MODEL_9495fe6012de4c6db556ee0b711367a6",
            "_dom_classes": [],
            "description": "",
            "_model_name": "HTMLModel",
            "placeholder": "​",
            "_view_module": "@jupyter-widgets/controls",
            "_model_module_version": "1.5.0",
            "value": " 170499072/? [00:23&lt;00:00, 7170680.15it/s]",
            "_view_count": null,
            "_view_module_version": "1.5.0",
            "description_tooltip": null,
            "_model_module": "@jupyter-widgets/controls",
            "layout": "IPY_MODEL_536d3b367d9c45859230cb9b67b31cf6"
          }
        },
        "749815f680064f6f8ea8bfc396ba99c7": {
          "model_module": "@jupyter-widgets/controls",
          "model_name": "ProgressStyleModel",
          "state": {
            "_view_name": "StyleView",
            "_model_name": "ProgressStyleModel",
            "description_width": "initial",
            "_view_module": "@jupyter-widgets/base",
            "_model_module_version": "1.5.0",
            "_view_count": null,
            "_view_module_version": "1.2.0",
            "bar_color": null,
            "_model_module": "@jupyter-widgets/controls"
          }
        },
        "704013339e834a6c93929fce93bea2ab": {
          "model_module": "@jupyter-widgets/base",
          "model_name": "LayoutModel",
          "state": {
            "_view_name": "LayoutView",
            "grid_template_rows": null,
            "right": null,
            "justify_content": null,
            "_view_module": "@jupyter-widgets/base",
            "overflow": null,
            "_model_module_version": "1.2.0",
            "_view_count": null,
            "flex_flow": null,
            "width": null,
            "min_width": null,
            "border": null,
            "align_items": null,
            "bottom": null,
            "_model_module": "@jupyter-widgets/base",
            "top": null,
            "grid_column": null,
            "overflow_y": null,
            "overflow_x": null,
            "grid_auto_flow": null,
            "grid_area": null,
            "grid_template_columns": null,
            "flex": null,
            "_model_name": "LayoutModel",
            "justify_items": null,
            "grid_row": null,
            "max_height": null,
            "align_content": null,
            "visibility": null,
            "align_self": null,
            "height": null,
            "min_height": null,
            "padding": null,
            "grid_auto_rows": null,
            "grid_gap": null,
            "max_width": null,
            "order": null,
            "_view_module_version": "1.2.0",
            "grid_template_areas": null,
            "object_position": null,
            "object_fit": null,
            "grid_auto_columns": null,
            "margin": null,
            "display": null,
            "left": null
          }
        },
        "9495fe6012de4c6db556ee0b711367a6": {
          "model_module": "@jupyter-widgets/controls",
          "model_name": "DescriptionStyleModel",
          "state": {
            "_view_name": "StyleView",
            "_model_name": "DescriptionStyleModel",
            "description_width": "",
            "_view_module": "@jupyter-widgets/base",
            "_model_module_version": "1.5.0",
            "_view_count": null,
            "_view_module_version": "1.2.0",
            "_model_module": "@jupyter-widgets/controls"
          }
        },
        "536d3b367d9c45859230cb9b67b31cf6": {
          "model_module": "@jupyter-widgets/base",
          "model_name": "LayoutModel",
          "state": {
            "_view_name": "LayoutView",
            "grid_template_rows": null,
            "right": null,
            "justify_content": null,
            "_view_module": "@jupyter-widgets/base",
            "overflow": null,
            "_model_module_version": "1.2.0",
            "_view_count": null,
            "flex_flow": null,
            "width": null,
            "min_width": null,
            "border": null,
            "align_items": null,
            "bottom": null,
            "_model_module": "@jupyter-widgets/base",
            "top": null,
            "grid_column": null,
            "overflow_y": null,
            "overflow_x": null,
            "grid_auto_flow": null,
            "grid_area": null,
            "grid_template_columns": null,
            "flex": null,
            "_model_name": "LayoutModel",
            "justify_items": null,
            "grid_row": null,
            "max_height": null,
            "align_content": null,
            "visibility": null,
            "align_self": null,
            "height": null,
            "min_height": null,
            "padding": null,
            "grid_auto_rows": null,
            "grid_gap": null,
            "max_width": null,
            "order": null,
            "_view_module_version": "1.2.0",
            "grid_template_areas": null,
            "object_position": null,
            "object_fit": null,
            "grid_auto_columns": null,
            "margin": null,
            "display": null,
            "left": null
          }
        }
      }
    }
  },
  "cells": [
    {
      "cell_type": "markdown",
      "metadata": {
        "id": "view-in-github",
        "colab_type": "text"
      },
      "source": [
        "<a href=\"https://colab.research.google.com/github/pragyasrivastava0805/congenial-journey/blob/main/FGSM_OneShotNonTargetted.ipynb\" target=\"_parent\"><img src=\"https://colab.research.google.com/assets/colab-badge.svg\" alt=\"Open In Colab\"/></a>"
      ]
    },
    {
      "cell_type": "code",
      "metadata": {
        "id": "wMmr0wpE4PgH"
      },
      "source": [
        "import os\n",
        "import torch\n",
        "import torchvision\n",
        "\n",
        "from torch.utils.data import random_split\n",
        "from torchvision.datasets import ImageFolder\n",
        "from torchvision.transforms import ToTensor\n",
        "import torchvision.transforms as transforms\n",
        "import matplotlib.pyplot as plt\n",
        "from torchvision.utils import make_grid\n",
        "from torch.utils.data.dataloader import DataLoader\n",
        "from torchvision.utils import make_grid\n",
        "import torch.nn as nn\n",
        "import torch.nn.functional as F\n",
        "from torchvision import datasets"
      ],
      "execution_count": 38,
      "outputs": []
    },
    {
      "cell_type": "code",
      "metadata": {
        "colab": {
          "base_uri": "https://localhost:8080/",
          "height": 116,
          "referenced_widgets": [
            "33edea19b8c24ab68106115568fc1cd9",
            "cb24bb907e78462f8b05529dd45e87c5",
            "cc4fe6e4dd594a1b93af46bc7b1c4e10",
            "cdd3c224fe0244a2a171dd4e9e72750d",
            "749815f680064f6f8ea8bfc396ba99c7",
            "704013339e834a6c93929fce93bea2ab",
            "9495fe6012de4c6db556ee0b711367a6",
            "536d3b367d9c45859230cb9b67b31cf6"
          ]
        },
        "id": "gdmZ0cbK4SS5",
        "outputId": "08415003-f3a7-49a4-fd14-ede597668b39"
      },
      "source": [
        "transform_train = transforms.Compose([transforms.Resize((32,32)),  #resises the image so it can be perfect for our model.\n",
        "                                      transforms.RandomHorizontalFlip(), # FLips the image w.r.t horizontal axis\n",
        "                                      transforms.RandomRotation(10),     #Rotates the image to a specified angel\n",
        "                                      transforms.RandomAffine(0, shear=10, scale=(0.8,1.2)), #Performs actions like zooms, change shear angles.\n",
        "                                      transforms.ColorJitter(brightness=0.2, contrast=0.2, saturation=0.2), # Set the color params\n",
        "                                      transforms.ToTensor(), # comvert the image to tensor so that it can work with torch\n",
        "                                      transforms.Normalize((0.5, 0.5, 0.5), (0.5, 0.5, 0.5)) #Normalize all the images\n",
        "                               ])\n",
        " \n",
        " \n",
        "transform = transforms.Compose([transforms.Resize((32,32)),\n",
        "                               transforms.ToTensor(),\n",
        "                               transforms.Normalize((0.5, 0.5, 0.5), (0.5, 0.5, 0.5))\n",
        "                               ])\n",
        "training_dataset = datasets.CIFAR10(root='./data', train=True, download=True, transform=transform_train) # Data augmentation is only done on training images\n",
        "test_dataset = datasets.CIFAR10(root='./data', train=False, download=True, transform=transform)"
      ],
      "execution_count": null,
      "outputs": [
        {
          "output_type": "stream",
          "text": [
            "Downloading https://www.cs.toronto.edu/~kriz/cifar-10-python.tar.gz to ./data/cifar-10-python.tar.gz\n"
          ],
          "name": "stdout"
        },
        {
          "output_type": "display_data",
          "data": {
            "application/vnd.jupyter.widget-view+json": {
              "model_id": "33edea19b8c24ab68106115568fc1cd9",
              "version_minor": 0,
              "version_major": 2
            },
            "text/plain": [
              "HBox(children=(FloatProgress(value=0.0, max=170498071.0), HTML(value='')))"
            ]
          },
          "metadata": {
            "tags": []
          }
        },
        {
          "output_type": "stream",
          "text": [
            "\n",
            "Extracting ./data/cifar-10-python.tar.gz to ./data\n",
            "Files already downloaded and verified\n"
          ],
          "name": "stdout"
        }
      ]
    },
    {
      "cell_type": "code",
      "metadata": {
        "colab": {
          "base_uri": "https://localhost:8080/"
        },
        "id": "WHWpGxmN4Woy",
        "outputId": "f18bc674-b6e1-4c4d-8245-38a30e85b5ff"
      },
      "source": [
        "random_seed=42\n",
        "torch.manual_seed(random_seed);\n",
        "val_size = 5000\n",
        "train_size = len(training_dataset) - val_size\n",
        "train_ds, val_ds = random_split(training_dataset,[train_size, val_size],generator=torch.manual_seed(random_seed))\n",
        "len(train_ds), len(val_ds)\n"
      ],
      "execution_count": null,
      "outputs": [
        {
          "output_type": "execute_result",
          "data": {
            "text/plain": [
              "(45000, 5000)"
            ]
          },
          "metadata": {
            "tags": []
          },
          "execution_count": 4
        }
      ]
    },
    {
      "cell_type": "code",
      "metadata": {
        "id": "dwZJNaz57I5F"
      },
      "source": [
        "training_loader = torch.utils.data.DataLoader(train_ds, batch_size=100, shuffle=True) # Batch size of 100 i.e to work with 100 images at a time\n",
        "validation_loader = torch.utils.data.DataLoader(val_ds, batch_size = 100, shuffle=False)"
      ],
      "execution_count": null,
      "outputs": []
    },
    {
      "cell_type": "code",
      "metadata": {
        "id": "bAKt2K248B6A"
      },
      "source": [
        "def im_convert(tensor):  \n",
        "  image = tensor.cpu().clone().detach().numpy() # This process will happen in normal cpu.\n",
        "  image = image.transpose(1, 2, 0)\n",
        "  image = image * np.array((0.5, 0.5, 0.5)) + np.array((0.5, 0.5, 0.5))\n",
        "  image = image.clip(0, 1)\n",
        "  return image"
      ],
      "execution_count": null,
      "outputs": []
    },
    {
      "cell_type": "code",
      "metadata": {
        "colab": {
          "base_uri": "https://localhost:8080/",
          "height": 268
        },
        "id": "HJv9kz7x8TEZ",
        "outputId": "33242570-761f-4635-c7c0-bac36c54ee82"
      },
      "source": [
        "classes=training_dataset.classes\n",
        "classes\n",
        "import numpy as np\n",
        "dataiter = iter(training_loader) # converting our train_dataloader to iterable so that we can iter through it. \n",
        "images, labels = dataiter.next() #going from 1st batch of 100 images to the next batch\n",
        "fig = plt.figure(figsize=(25, 4)) \n",
        "\n",
        "# We plot 20 images from our train_dataset\n",
        "for idx in np.arange(20):\n",
        "  ax = fig.add_subplot(2, 10, idx+1, xticks=[], yticks=[]) \n",
        "  plt.imshow(im_convert(images[idx])) #converting to numpy array as plt needs it.\n",
        "  ax.set_title(classes[labels[idx].item()])"
      ],
      "execution_count": null,
      "outputs": [
        {
          "output_type": "display_data",
          "data": {
            "image/png": "[encoded data removed]",
            "text/plain": [
              "<Figure size 1800x288 with 20 Axes>"
            ]
          },
          "metadata": {
            "tags": []
          }
        }
      ]
    },
    {
      "cell_type": "code",
      "metadata": {
        "id": "ULTNC3398hiI"
      },
      "source": [
        "class LeNet(nn.Module):\n",
        "    def __init__(self):\n",
        "      super().__init__()\n",
        "      self.conv1 = nn.Conv2d(3, 16, 3, 1, padding=1) # input is color image, hence 3 i/p channels. 16 filters, kernal size is tuned to 3 to avoid overfitting, stride is 1 , padding is 1 extract all edge features.\n",
        "      self.conv2 = nn.Conv2d(16, 32, 3, 1, padding=1) # We double the feature maps for every conv layer as in pratice it is really good.\n",
        "      self.conv3 = nn.Conv2d(32, 64, 3, 1, padding=1)\n",
        "      self.fc1 = nn.Linear(4*4*64, 500) # I/p image size is 32*32, after 3 MaxPooling layers it reduces to 4*4 and 64 because our last conv layer has 64 outputs. Output nodes is 500\n",
        "      self.dropout1 = nn.Dropout(0.5)\n",
        "      self.fc2 = nn.Linear(500, 10) # output nodes are 10 because our dataset have 10 different categories\n",
        "    def forward(self, x):\n",
        "      x = F.relu(self.conv1(x)) #Apply relu to each output of conv layer.\n",
        "      x = F.max_pool2d(x, 2, 2) # Max pooling layer with kernal of 2 and stride of 2\n",
        "      x = F.relu(self.conv2(x))\n",
        "      x = F.max_pool2d(x, 2, 2)\n",
        "      x = F.relu(self.conv3(x))\n",
        "      x = F.max_pool2d(x, 2, 2)\n",
        "      x = x.view(-1, 4*4*64) # flatten our images to 1D to input it to the fully connected layers\n",
        "      x = F.relu(self.fc1(x))\n",
        "      x = self.dropout1(x) # Applying dropout b/t layers which exchange highest parameters. This is a good practice\n",
        "      x = self.fc2(x)\n",
        "      return x"
      ],
      "execution_count": null,
      "outputs": []
    },
    {
      "cell_type": "code",
      "metadata": {
        "colab": {
          "base_uri": "https://localhost:8080/"
        },
        "id": "ukjQaJnE9RG9",
        "outputId": "39f967c5-14ef-45df-b442-4d33c5da02af"
      },
      "source": [
        "device = torch.device(\"cuda:0\" if torch.cuda.is_available() else \"cpu\")\n",
        "\n",
        "model = LeNet().to(device) # run our model on cuda GPU for faster results\n",
        "model"
      ],
      "execution_count": null,
      "outputs": [
        {
          "output_type": "execute_result",
          "data": {
            "text/plain": [
              "LeNet(\n",
              "  (conv1): Conv2d(3, 16, kernel_size=(3, 3), stride=(1, 1), padding=(1, 1))\n",
              "  (conv2): Conv2d(16, 32, kernel_size=(3, 3), stride=(1, 1), padding=(1, 1))\n",
              "  (conv3): Conv2d(32, 64, kernel_size=(3, 3), stride=(1, 1), padding=(1, 1))\n",
              "  (fc1): Linear(in_features=1024, out_features=500, bias=True)\n",
              "  (dropout1): Dropout(p=0.5, inplace=False)\n",
              "  (fc2): Linear(in_features=500, out_features=10, bias=True)\n",
              ")"
            ]
          },
          "metadata": {
            "tags": []
          },
          "execution_count": 9
        }
      ]
    },
    {
      "cell_type": "code",
      "metadata": {
        "id": "cSPMQTXv9Va5"
      },
      "source": [
        "criterion = nn.CrossEntropyLoss() # same as categorical_crossentropy loss used in Keras models which runs on Tensorflow\n",
        "optimizer = torch.optim.Adam(model.parameters(), lr = 0.001) # fine tuned the lr"
      ],
      "execution_count": null,
      "outputs": []
    },
    {
      "cell_type": "code",
      "metadata": {
        "colab": {
          "base_uri": "https://localhost:8080/"
        },
        "id": "F_PQcssw9lqG",
        "outputId": "59125d25-fb9e-41aa-b372-350778a4568a"
      },
      "source": [
        "epochs = 20\n",
        "running_loss_history = []\n",
        "running_corrects_history = []\n",
        "val_running_loss_history = []\n",
        "val_running_corrects_history = []\n",
        "\n",
        "for e in range(epochs): # training our model, put input according to every batch.\n",
        "  \n",
        "  running_loss = 0.0\n",
        "  running_corrects = 0.0\n",
        "  val_running_loss = 0.0\n",
        "  val_running_corrects = 0.0\n",
        "  \n",
        "  for inputs, labels in training_loader:\n",
        "    inputs = inputs.to(device) # input to device as our model is running in mentioned device.\n",
        "    labels = labels.to(device)\n",
        "    outputs = model(inputs) # every batch of 100 images are put as an input.\n",
        "    loss = criterion(outputs, labels) # Calc loss after each batch i/p by comparing it to actual labels. \n",
        "    \n",
        "    optimizer.zero_grad() #setting the initial gradient to 0\n",
        "    loss.backward() # backpropagating the loss\n",
        "    optimizer.step() # updating the weights and bias values for every single step.\n",
        "    \n",
        "    _, preds = torch.max(outputs, 1) # taking the highest value of prediction.\n",
        "    running_loss += loss.item()\n",
        "    running_corrects += torch.sum(preds == labels.data) # calculating te accuracy by taking the sum of all the correct predictions in a batch.\n",
        "\n",
        "  else:\n",
        "    with torch.no_grad(): # we do not need gradient for validation.\n",
        "      for val_inputs, val_labels in validation_loader:\n",
        "        val_inputs = val_inputs.to(device)\n",
        "        val_labels = val_labels.to(device)\n",
        "        val_outputs = model(val_inputs)\n",
        "        val_loss = criterion(val_outputs, val_labels)\n",
        "        \n",
        "        _, val_preds = torch.max(val_outputs, 1)\n",
        "        val_running_loss += val_loss.item()\n",
        "        val_running_corrects += torch.sum(val_preds == val_labels.data)\n",
        "      \n",
        "    epoch_loss = running_loss/len(training_loader) # loss per epoch\n",
        "    epoch_acc = running_corrects.float()/ len(training_loader) # accuracy per epoch\n",
        "    running_loss_history.append(epoch_loss) # appending for displaying \n",
        "    running_corrects_history.append(epoch_acc)\n",
        "    \n",
        "    val_epoch_loss = val_running_loss/len(validation_loader)\n",
        "    val_epoch_acc = val_running_corrects.float()/ len(validation_loader)\n",
        "    val_running_loss_history.append(val_epoch_loss)\n",
        "    val_running_corrects_history.append(val_epoch_acc)\n",
        "    print('epoch :', (e+1))\n",
        "    print('training loss: {:.4f}, acc {:.4f} '.format(epoch_loss, epoch_acc.item()))\n",
        "    print('validation loss: {:.4f}, validation acc {:.4f} '.format(val_epoch_loss, val_epoch_acc.item()))"
      ],
      "execution_count": 11,
      "outputs": [
        {
          "output_type": "stream",
          "text": [
            "epoch : 1\n",
            "training loss: 1.7188, acc 36.9356 \n",
            "validation loss: 1.5382, validation acc 44.3000 \n",
            "epoch : 2\n",
            "training loss: 1.4090, acc 49.0422 \n",
            "validation loss: 1.3437, validation acc 51.5200 \n",
            "epoch : 3\n",
            "training loss: 1.2836, acc 54.0733 \n",
            "validation loss: 1.2556, validation acc 55.7000 \n",
            "epoch : 4\n",
            "training loss: 1.1975, acc 57.3667 \n",
            "validation loss: 1.1963, validation acc 57.4600 \n",
            "epoch : 5\n",
            "training loss: 1.1306, acc 59.9178 \n",
            "validation loss: 1.1213, validation acc 60.9600 \n",
            "epoch : 6\n",
            "training loss: 1.0818, acc 61.9111 \n",
            "validation loss: 1.0694, validation acc 62.1600 \n",
            "epoch : 7\n",
            "training loss: 1.0351, acc 63.7200 \n",
            "validation loss: 1.0571, validation acc 62.5200 \n",
            "epoch : 8\n",
            "training loss: 0.9982, acc 64.9244 \n",
            "validation loss: 1.0556, validation acc 62.3200 \n",
            "epoch : 9\n",
            "training loss: 0.9725, acc 65.9644 \n",
            "validation loss: 0.9966, validation acc 65.1600 \n",
            "epoch : 10\n",
            "training loss: 0.9490, acc 66.5689 \n",
            "validation loss: 0.9879, validation acc 65.3200 \n",
            "epoch : 11\n",
            "training loss: 0.9230, acc 67.6711 \n",
            "validation loss: 0.9316, validation acc 67.4600 \n",
            "epoch : 12\n",
            "training loss: 0.9061, acc 68.3956 \n",
            "validation loss: 0.9249, validation acc 66.9400 \n",
            "epoch : 13\n",
            "training loss: 0.8840, acc 68.9156 \n",
            "validation loss: 0.9359, validation acc 67.3600 \n",
            "epoch : 14\n",
            "training loss: 0.8739, acc 69.1067 \n",
            "validation loss: 0.9273, validation acc 67.2200 \n",
            "epoch : 15\n",
            "training loss: 0.8618, acc 70.0244 \n",
            "validation loss: 0.9162, validation acc 67.5600 \n",
            "epoch : 16\n",
            "training loss: 0.8378, acc 70.6422 \n",
            "validation loss: 0.9138, validation acc 68.0800 \n",
            "epoch : 17\n",
            "training loss: 0.8358, acc 70.6311 \n",
            "validation loss: 0.8963, validation acc 68.2000 \n",
            "epoch : 18\n",
            "training loss: 0.8283, acc 71.2867 \n",
            "validation loss: 0.9293, validation acc 67.8800 \n",
            "epoch : 19\n",
            "training loss: 0.8230, acc 71.3600 \n",
            "validation loss: 0.8872, validation acc 69.6400 \n",
            "epoch : 20\n",
            "training loss: 0.8066, acc 71.9844 \n",
            "validation loss: 0.9050, validation acc 68.3400 \n"
          ],
          "name": "stdout"
        }
      ]
    },
    {
      "cell_type": "code",
      "metadata": {
        "colab": {
          "base_uri": "https://localhost:8080/"
        },
        "id": "Z4u_Y_gr92e0",
        "outputId": "c01651a8-f77d-426d-8489-fc23e476c947"
      },
      "source": [
        "test_loader = torch.utils.data.DataLoader(test_dataset, batch_size = 100, shuffle=False)\n",
        "batch_size=100\n",
        "with torch.no_grad():\n",
        "  n_correct=0\n",
        "  n_samples=0\n",
        "  n_class_correct=[0 for i in range(10)]\n",
        "  n_class_samples=[0 for i in range(10)]\n",
        "  for (images,labels) in test_loader:\n",
        "    images=images.to(device)\n",
        "    labels=labels.to(device)\n",
        "    outputs=model(images)\n",
        "    _,predicted=torch.max(outputs,1)\n",
        "    n_samples+=labels.size(0)\n",
        "    n_correct+=(labels==predicted).sum().item()\n",
        " \n",
        "  acc=100.0*n_correct/n_samples\n",
        "  print(f'accuracy',acc)"
      ],
      "execution_count": 12,
      "outputs": [
        {
          "output_type": "stream",
          "text": [
            "accuracy 73.56\n"
          ],
          "name": "stdout"
        }
      ]
    },
    {
      "cell_type": "code",
      "metadata": {
        "id": "Mpf5LwchL6HV"
      },
      "source": [
        "from torch.autograd import Variable\n",
        "def fgsm(x, y, targeted, eps, x_val_min, x_val_max):\n",
        "        x_adv = Variable(x.data, requires_grad=True)\n",
        "        outputs=model(x_adv)\n",
        "        _,pred=torch.max(outputs,1)\n",
        "        if targeted:\n",
        "            cost = criterion(outputs, y)\n",
        "        else:\n",
        "            cost = -criterion(outputs, y)\n",
        "\n",
        "        model.zero_grad()\n",
        "        if x_adv.grad is not None:\n",
        "            x_adv.grad.data.fill_(0)\n",
        "        cost.backward()\n",
        "\n",
        "        x_adv.grad.sign_()\n",
        "        x_adv = x_adv - eps*x_adv.grad\n",
        "        x_adv = torch.clamp(x_adv, x_val_min, x_val_max)\n",
        "\n",
        "\n",
        "        \n",
        "\n",
        "        return x_adv"
      ],
      "execution_count": 14,
      "outputs": []
    },
    {
      "cell_type": "code",
      "metadata": {
        "id": "UXRH-BJmIu37"
      },
      "source": [
        "def test( model, device, test_loader, epsilon ):\n",
        "  correct=0\n",
        "  tot=len(test_loader)\n",
        "  for (data, target) in test_loader:\n",
        "\n",
        "        # Send the data and label to the device\n",
        "    data, target = data.to(device), target.to(device)\n",
        "\n",
        "        # Set requires_grad attribute of tensor. Important for Attack\n",
        "    data.requires_grad = True\n",
        "\n",
        "        # Forward pass the data through the model\n",
        "    output = model(data)\n",
        "    _,init_pred = torch.max(output,1) # get the index of the max log-probability\n",
        "\n",
        "        # If the initial prediction is wrong, dont bother attacking, just move on\n",
        "  \n",
        "    loss = F.nll_loss(output, target)\n",
        "\n",
        "        # Zero all existing gradients\n",
        "   \n",
        "    model.zero_grad()\n",
        "    loss.backward()\n",
        "\n",
        "        # Collect datagrad\n",
        "    data_grad = data.grad.data\n",
        "    \n",
        "    p_img=fgsm(data,target,False,eps,-1,1)\n",
        "    output=model(p_img)\n",
        "    _,f_p=torch.max(output,1)\n",
        "    correct += (f_p.data.cpu() == target.data.cpu()).sum()\n",
        "        \n",
        "  final_acc = correct/float(len(test_dataset))\n",
        "  print(\"Epsilon: {}\\tTest Accuracy = {} / {} = {}\".format(epsilon, correct, len(test_dataset), final_acc))\n",
        "  return final_acc\n",
        "\n",
        "\n"
      ],
      "execution_count": 28,
      "outputs": []
    },
    {
      "cell_type": "code",
      "metadata": {
        "colab": {
          "base_uri": "https://localhost:8080/"
        },
        "id": "uJNYmMJQMYg9",
        "outputId": "c524920c-b6f1-4459-950b-87a23952f16a"
      },
      "source": [
        "accuracies = []\n",
        "epsilons=np.arange(0,0.2,0.001)\n",
        "\n",
        "# Run test for each epsilon\n",
        "for eps in epsilons:\n",
        "    acc = test(model, device, test_loader, eps)\n",
        "    accuracies.append(acc)\n",
        "    "
      ],
      "execution_count": 29,
      "outputs": [
        {
          "output_type": "stream",
          "text": [
            "Epsilon: 0.0\tTest Accuracy = 7400 / 10000 = 0.7400000095367432\n",
            "Epsilon: 0.001\tTest Accuracy = 7118 / 10000 = 0.7117999792098999\n",
            "Epsilon: 0.002\tTest Accuracy = 6820 / 10000 = 0.6819999814033508\n",
            "Epsilon: 0.003\tTest Accuracy = 6570 / 10000 = 0.6570000052452087\n",
            "Epsilon: 0.004\tTest Accuracy = 6328 / 10000 = 0.6327999830245972\n",
            "Epsilon: 0.005\tTest Accuracy = 6103 / 10000 = 0.6103000044822693\n",
            "Epsilon: 0.006\tTest Accuracy = 5864 / 10000 = 0.5863999724388123\n",
            "Epsilon: 0.007\tTest Accuracy = 5629 / 10000 = 0.5629000067710876\n",
            "Epsilon: 0.008\tTest Accuracy = 5387 / 10000 = 0.5386999845504761\n",
            "Epsilon: 0.009000000000000001\tTest Accuracy = 5201 / 10000 = 0.5200999975204468\n",
            "Epsilon: 0.01\tTest Accuracy = 4931 / 10000 = 0.49309998750686646\n",
            "Epsilon: 0.011\tTest Accuracy = 4727 / 10000 = 0.47269999980926514\n",
            "Epsilon: 0.012\tTest Accuracy = 4572 / 10000 = 0.45719999074935913\n",
            "Epsilon: 0.013000000000000001\tTest Accuracy = 4406 / 10000 = 0.4406000077724457\n",
            "Epsilon: 0.014\tTest Accuracy = 4184 / 10000 = 0.41839998960494995\n",
            "Epsilon: 0.015\tTest Accuracy = 4028 / 10000 = 0.4027999937534332\n",
            "Epsilon: 0.016\tTest Accuracy = 3901 / 10000 = 0.39010000228881836\n",
            "Epsilon: 0.017\tTest Accuracy = 3751 / 10000 = 0.3750999867916107\n",
            "Epsilon: 0.018000000000000002\tTest Accuracy = 3563 / 10000 = 0.3562999963760376\n",
            "Epsilon: 0.019\tTest Accuracy = 3457 / 10000 = 0.3456999957561493\n",
            "Epsilon: 0.02\tTest Accuracy = 3311 / 10000 = 0.3310999870300293\n",
            "Epsilon: 0.021\tTest Accuracy = 3173 / 10000 = 0.3172999918460846\n",
            "Epsilon: 0.022\tTest Accuracy = 3073 / 10000 = 0.30730000138282776\n",
            "Epsilon: 0.023\tTest Accuracy = 2945 / 10000 = 0.2944999933242798\n",
            "Epsilon: 0.024\tTest Accuracy = 2812 / 10000 = 0.28119999170303345\n",
            "Epsilon: 0.025\tTest Accuracy = 2708 / 10000 = 0.27079999446868896\n",
            "Epsilon: 0.026000000000000002\tTest Accuracy = 2604 / 10000 = 0.2603999972343445\n",
            "Epsilon: 0.027\tTest Accuracy = 2542 / 10000 = 0.2542000114917755\n",
            "Epsilon: 0.028\tTest Accuracy = 2414 / 10000 = 0.24140000343322754\n",
            "Epsilon: 0.029\tTest Accuracy = 2341 / 10000 = 0.23409999907016754\n",
            "Epsilon: 0.03\tTest Accuracy = 2257 / 10000 = 0.2257000058889389\n",
            "Epsilon: 0.031\tTest Accuracy = 2185 / 10000 = 0.21850000321865082\n",
            "Epsilon: 0.032\tTest Accuracy = 2126 / 10000 = 0.2125999927520752\n",
            "Epsilon: 0.033\tTest Accuracy = 2026 / 10000 = 0.20260000228881836\n",
            "Epsilon: 0.034\tTest Accuracy = 1941 / 10000 = 0.1941000074148178\n",
            "Epsilon: 0.035\tTest Accuracy = 1886 / 10000 = 0.18860000371932983\n",
            "Epsilon: 0.036000000000000004\tTest Accuracy = 1855 / 10000 = 0.18549999594688416\n",
            "Epsilon: 0.037\tTest Accuracy = 1732 / 10000 = 0.17319999635219574\n",
            "Epsilon: 0.038\tTest Accuracy = 1693 / 10000 = 0.16930000483989716\n",
            "Epsilon: 0.039\tTest Accuracy = 1638 / 10000 = 0.16380000114440918\n",
            "Epsilon: 0.04\tTest Accuracy = 1596 / 10000 = 0.15960000455379486\n",
            "Epsilon: 0.041\tTest Accuracy = 1576 / 10000 = 0.15760000050067902\n",
            "Epsilon: 0.042\tTest Accuracy = 1497 / 10000 = 0.14970000088214874\n",
            "Epsilon: 0.043000000000000003\tTest Accuracy = 1466 / 10000 = 0.14659999310970306\n",
            "Epsilon: 0.044\tTest Accuracy = 1411 / 10000 = 0.14110000431537628\n",
            "Epsilon: 0.045\tTest Accuracy = 1355 / 10000 = 0.1354999989271164\n",
            "Epsilon: 0.046\tTest Accuracy = 1286 / 10000 = 0.12860000133514404\n",
            "Epsilon: 0.047\tTest Accuracy = 1252 / 10000 = 0.12520000338554382\n",
            "Epsilon: 0.048\tTest Accuracy = 1210 / 10000 = 0.12099999934434891\n",
            "Epsilon: 0.049\tTest Accuracy = 1210 / 10000 = 0.12099999934434891\n",
            "Epsilon: 0.05\tTest Accuracy = 1144 / 10000 = 0.1143999993801117\n",
            "Epsilon: 0.051000000000000004\tTest Accuracy = 1118 / 10000 = 0.11180000007152557\n",
            "Epsilon: 0.052000000000000005\tTest Accuracy = 1155 / 10000 = 0.11550000309944153\n",
            "Epsilon: 0.053\tTest Accuracy = 1058 / 10000 = 0.10580000281333923\n",
            "Epsilon: 0.054\tTest Accuracy = 1034 / 10000 = 0.10339999943971634\n",
            "Epsilon: 0.055\tTest Accuracy = 1001 / 10000 = 0.10010000318288803\n",
            "Epsilon: 0.056\tTest Accuracy = 997 / 10000 = 0.09969999641180038\n",
            "Epsilon: 0.057\tTest Accuracy = 980 / 10000 = 0.09799999743700027\n",
            "Epsilon: 0.058\tTest Accuracy = 909 / 10000 = 0.0908999964594841\n",
            "Epsilon: 0.059000000000000004\tTest Accuracy = 900 / 10000 = 0.09000000357627869\n",
            "Epsilon: 0.06\tTest Accuracy = 888 / 10000 = 0.08879999816417694\n",
            "Epsilon: 0.061\tTest Accuracy = 810 / 10000 = 0.08100000023841858\n",
            "Epsilon: 0.062\tTest Accuracy = 795 / 10000 = 0.0794999971985817\n",
            "Epsilon: 0.063\tTest Accuracy = 829 / 10000 = 0.08290000259876251\n",
            "Epsilon: 0.064\tTest Accuracy = 802 / 10000 = 0.08020000159740448\n",
            "Epsilon: 0.065\tTest Accuracy = 758 / 10000 = 0.07580000162124634\n",
            "Epsilon: 0.066\tTest Accuracy = 785 / 10000 = 0.07850000262260437\n",
            "Epsilon: 0.067\tTest Accuracy = 692 / 10000 = 0.06920000165700912\n",
            "Epsilon: 0.068\tTest Accuracy = 718 / 10000 = 0.07180000096559525\n",
            "Epsilon: 0.069\tTest Accuracy = 714 / 10000 = 0.0714000016450882\n",
            "Epsilon: 0.07\tTest Accuracy = 698 / 10000 = 0.0697999969124794\n",
            "Epsilon: 0.07100000000000001\tTest Accuracy = 682 / 10000 = 0.0681999996304512\n",
            "Epsilon: 0.07200000000000001\tTest Accuracy = 642 / 10000 = 0.06419999897480011\n",
            "Epsilon: 0.073\tTest Accuracy = 649 / 10000 = 0.0649000033736229\n",
            "Epsilon: 0.074\tTest Accuracy = 619 / 10000 = 0.061900001019239426\n",
            "Epsilon: 0.075\tTest Accuracy = 599 / 10000 = 0.05990000069141388\n",
            "Epsilon: 0.076\tTest Accuracy = 629 / 10000 = 0.06289999932050705\n",
            "Epsilon: 0.077\tTest Accuracy = 615 / 10000 = 0.061500001698732376\n",
            "Epsilon: 0.078\tTest Accuracy = 598 / 10000 = 0.05979999899864197\n",
            "Epsilon: 0.079\tTest Accuracy = 583 / 10000 = 0.05829999968409538\n",
            "Epsilon: 0.08\tTest Accuracy = 585 / 10000 = 0.05849999934434891\n",
            "Epsilon: 0.081\tTest Accuracy = 571 / 10000 = 0.057100001722574234\n",
            "Epsilon: 0.082\tTest Accuracy = 555 / 10000 = 0.05550000071525574\n",
            "Epsilon: 0.083\tTest Accuracy = 506 / 10000 = 0.050599999725818634\n",
            "Epsilon: 0.084\tTest Accuracy = 547 / 10000 = 0.05469999834895134\n",
            "Epsilon: 0.085\tTest Accuracy = 520 / 10000 = 0.052000001072883606\n",
            "Epsilon: 0.08600000000000001\tTest Accuracy = 525 / 10000 = 0.05249999836087227\n",
            "Epsilon: 0.08700000000000001\tTest Accuracy = 488 / 10000 = 0.04879999905824661\n",
            "Epsilon: 0.088\tTest Accuracy = 509 / 10000 = 0.05090000107884407\n",
            "Epsilon: 0.089\tTest Accuracy = 507 / 10000 = 0.050700001418590546\n",
            "Epsilon: 0.09\tTest Accuracy = 511 / 10000 = 0.051100000739097595\n",
            "Epsilon: 0.091\tTest Accuracy = 456 / 10000 = 0.04560000076889992\n",
            "Epsilon: 0.092\tTest Accuracy = 494 / 10000 = 0.049400001764297485\n",
            "Epsilon: 0.093\tTest Accuracy = 447 / 10000 = 0.04470000043511391\n",
            "Epsilon: 0.094\tTest Accuracy = 469 / 10000 = 0.04690000042319298\n",
            "Epsilon: 0.095\tTest Accuracy = 437 / 10000 = 0.043699998408555984\n",
            "Epsilon: 0.096\tTest Accuracy = 418 / 10000 = 0.04179999977350235\n",
            "Epsilon: 0.097\tTest Accuracy = 433 / 10000 = 0.043299999088048935\n",
            "Epsilon: 0.098\tTest Accuracy = 445 / 10000 = 0.04450000077486038\n",
            "Epsilon: 0.099\tTest Accuracy = 416 / 10000 = 0.041600000113248825\n",
            "Epsilon: 0.1\tTest Accuracy = 398 / 10000 = 0.039799999445676804\n",
            "Epsilon: 0.101\tTest Accuracy = 417 / 10000 = 0.04170000180602074\n",
            "Epsilon: 0.10200000000000001\tTest Accuracy = 408 / 10000 = 0.040800001472234726\n",
            "Epsilon: 0.10300000000000001\tTest Accuracy = 448 / 10000 = 0.04479999840259552\n",
            "Epsilon: 0.10400000000000001\tTest Accuracy = 398 / 10000 = 0.039799999445676804\n",
            "Epsilon: 0.105\tTest Accuracy = 406 / 10000 = 0.0406000018119812\n",
            "Epsilon: 0.106\tTest Accuracy = 379 / 10000 = 0.03790000081062317\n",
            "Epsilon: 0.107\tTest Accuracy = 410 / 10000 = 0.04100000113248825\n",
            "Epsilon: 0.108\tTest Accuracy = 371 / 10000 = 0.03709999844431877\n",
            "Epsilon: 0.109\tTest Accuracy = 377 / 10000 = 0.037700001150369644\n",
            "Epsilon: 0.11\tTest Accuracy = 360 / 10000 = 0.035999998450279236\n",
            "Epsilon: 0.111\tTest Accuracy = 385 / 10000 = 0.03849999979138374\n",
            "Epsilon: 0.112\tTest Accuracy = 373 / 10000 = 0.037300001829862595\n",
            "Epsilon: 0.113\tTest Accuracy = 345 / 10000 = 0.03449999913573265\n",
            "Epsilon: 0.114\tTest Accuracy = 359 / 10000 = 0.03590000048279762\n",
            "Epsilon: 0.115\tTest Accuracy = 376 / 10000 = 0.03759999945759773\n",
            "Epsilon: 0.116\tTest Accuracy = 363 / 10000 = 0.03629999980330467\n",
            "Epsilon: 0.117\tTest Accuracy = 351 / 10000 = 0.035100001841783524\n",
            "Epsilon: 0.11800000000000001\tTest Accuracy = 372 / 10000 = 0.03720000013709068\n",
            "Epsilon: 0.11900000000000001\tTest Accuracy = 335 / 10000 = 0.03350000083446503\n",
            "Epsilon: 0.12\tTest Accuracy = 341 / 10000 = 0.0340999998152256\n",
            "Epsilon: 0.121\tTest Accuracy = 337 / 10000 = 0.03370000049471855\n",
            "Epsilon: 0.122\tTest Accuracy = 357 / 10000 = 0.0357000008225441\n",
            "Epsilon: 0.123\tTest Accuracy = 316 / 10000 = 0.031599998474121094\n",
            "Epsilon: 0.124\tTest Accuracy = 316 / 10000 = 0.031599998474121094\n",
            "Epsilon: 0.125\tTest Accuracy = 316 / 10000 = 0.031599998474121094\n",
            "Epsilon: 0.126\tTest Accuracy = 333 / 10000 = 0.0333000011742115\n",
            "Epsilon: 0.127\tTest Accuracy = 343 / 10000 = 0.034299999475479126\n",
            "Epsilon: 0.128\tTest Accuracy = 308 / 10000 = 0.030799999833106995\n",
            "Epsilon: 0.129\tTest Accuracy = 331 / 10000 = 0.03310000151395798\n",
            "Epsilon: 0.13\tTest Accuracy = 320 / 10000 = 0.03200000151991844\n",
            "Epsilon: 0.131\tTest Accuracy = 321 / 10000 = 0.032099999487400055\n",
            "Epsilon: 0.132\tTest Accuracy = 312 / 10000 = 0.031199999153614044\n",
            "Epsilon: 0.133\tTest Accuracy = 313 / 10000 = 0.031300000846385956\n",
            "Epsilon: 0.134\tTest Accuracy = 314 / 10000 = 0.03139999881386757\n",
            "Epsilon: 0.135\tTest Accuracy = 316 / 10000 = 0.031599998474121094\n",
            "Epsilon: 0.136\tTest Accuracy = 302 / 10000 = 0.03020000085234642\n",
            "Epsilon: 0.137\tTest Accuracy = 310 / 10000 = 0.03099999949336052\n",
            "Epsilon: 0.138\tTest Accuracy = 300 / 10000 = 0.029999999329447746\n",
            "Epsilon: 0.139\tTest Accuracy = 322 / 10000 = 0.03220000118017197\n",
            "Epsilon: 0.14\tTest Accuracy = 328 / 10000 = 0.03280000016093254\n",
            "Epsilon: 0.14100000000000001\tTest Accuracy = 305 / 10000 = 0.030500000342726707\n",
            "Epsilon: 0.14200000000000002\tTest Accuracy = 314 / 10000 = 0.03139999881386757\n",
            "Epsilon: 0.14300000000000002\tTest Accuracy = 296 / 10000 = 0.029600000008940697\n",
            "Epsilon: 0.14400000000000002\tTest Accuracy = 313 / 10000 = 0.031300000846385956\n",
            "Epsilon: 0.145\tTest Accuracy = 319 / 10000 = 0.03189999982714653\n",
            "Epsilon: 0.146\tTest Accuracy = 314 / 10000 = 0.03139999881386757\n",
            "Epsilon: 0.147\tTest Accuracy = 302 / 10000 = 0.03020000085234642\n",
            "Epsilon: 0.148\tTest Accuracy = 312 / 10000 = 0.031199999153614044\n",
            "Epsilon: 0.149\tTest Accuracy = 287 / 10000 = 0.028699999675154686\n",
            "Epsilon: 0.15\tTest Accuracy = 289 / 10000 = 0.02889999933540821\n",
            "Epsilon: 0.151\tTest Accuracy = 269 / 10000 = 0.026900000870227814\n",
            "Epsilon: 0.152\tTest Accuracy = 286 / 10000 = 0.028599999845027924\n",
            "Epsilon: 0.153\tTest Accuracy = 284 / 10000 = 0.0284000001847744\n",
            "Epsilon: 0.154\tTest Accuracy = 293 / 10000 = 0.02930000051856041\n",
            "Epsilon: 0.155\tTest Accuracy = 301 / 10000 = 0.03009999915957451\n",
            "Epsilon: 0.156\tTest Accuracy = 287 / 10000 = 0.028699999675154686\n",
            "Epsilon: 0.157\tTest Accuracy = 288 / 10000 = 0.02879999950528145\n",
            "Epsilon: 0.158\tTest Accuracy = 293 / 10000 = 0.02930000051856041\n",
            "Epsilon: 0.159\tTest Accuracy = 281 / 10000 = 0.02810000069439411\n",
            "Epsilon: 0.16\tTest Accuracy = 280 / 10000 = 0.02800000086426735\n",
            "Epsilon: 0.161\tTest Accuracy = 293 / 10000 = 0.02930000051856041\n",
            "Epsilon: 0.162\tTest Accuracy = 290 / 10000 = 0.028999999165534973\n",
            "Epsilon: 0.163\tTest Accuracy = 295 / 10000 = 0.029500000178813934\n",
            "Epsilon: 0.164\tTest Accuracy = 266 / 10000 = 0.026599999517202377\n",
            "Epsilon: 0.165\tTest Accuracy = 306 / 10000 = 0.03060000017285347\n",
            "Epsilon: 0.166\tTest Accuracy = 263 / 10000 = 0.02630000002682209\n",
            "Epsilon: 0.167\tTest Accuracy = 273 / 10000 = 0.027300000190734863\n",
            "Epsilon: 0.168\tTest Accuracy = 285 / 10000 = 0.02850000001490116\n",
            "Epsilon: 0.169\tTest Accuracy = 284 / 10000 = 0.0284000001847744\n",
            "Epsilon: 0.17\tTest Accuracy = 293 / 10000 = 0.02930000051856041\n",
            "Epsilon: 0.171\tTest Accuracy = 285 / 10000 = 0.02850000001490116\n",
            "Epsilon: 0.17200000000000001\tTest Accuracy = 286 / 10000 = 0.028599999845027924\n",
            "Epsilon: 0.17300000000000001\tTest Accuracy = 281 / 10000 = 0.02810000069439411\n",
            "Epsilon: 0.17400000000000002\tTest Accuracy = 296 / 10000 = 0.029600000008940697\n",
            "Epsilon: 0.17500000000000002\tTest Accuracy = 279 / 10000 = 0.027899999171495438\n",
            "Epsilon: 0.176\tTest Accuracy = 291 / 10000 = 0.029100000858306885\n",
            "Epsilon: 0.177\tTest Accuracy = 277 / 10000 = 0.027699999511241913\n",
            "Epsilon: 0.178\tTest Accuracy = 266 / 10000 = 0.026599999517202377\n",
            "Epsilon: 0.179\tTest Accuracy = 264 / 10000 = 0.026399999856948853\n",
            "Epsilon: 0.18\tTest Accuracy = 274 / 10000 = 0.027400000020861626\n",
            "Epsilon: 0.181\tTest Accuracy = 287 / 10000 = 0.028699999675154686\n",
            "Epsilon: 0.182\tTest Accuracy = 285 / 10000 = 0.02850000001490116\n",
            "Epsilon: 0.183\tTest Accuracy = 304 / 10000 = 0.030400000512599945\n",
            "Epsilon: 0.184\tTest Accuracy = 284 / 10000 = 0.0284000001847744\n",
            "Epsilon: 0.185\tTest Accuracy = 307 / 10000 = 0.030700000002980232\n",
            "Epsilon: 0.186\tTest Accuracy = 276 / 10000 = 0.02759999968111515\n",
            "Epsilon: 0.187\tTest Accuracy = 291 / 10000 = 0.029100000858306885\n",
            "Epsilon: 0.188\tTest Accuracy = 278 / 10000 = 0.027799999341368675\n",
            "Epsilon: 0.189\tTest Accuracy = 289 / 10000 = 0.02889999933540821\n",
            "Epsilon: 0.19\tTest Accuracy = 276 / 10000 = 0.02759999968111515\n",
            "Epsilon: 0.191\tTest Accuracy = 295 / 10000 = 0.029500000178813934\n",
            "Epsilon: 0.192\tTest Accuracy = 269 / 10000 = 0.026900000870227814\n",
            "Epsilon: 0.193\tTest Accuracy = 281 / 10000 = 0.02810000069439411\n",
            "Epsilon: 0.194\tTest Accuracy = 272 / 10000 = 0.0272000003606081\n",
            "Epsilon: 0.195\tTest Accuracy = 314 / 10000 = 0.03139999881386757\n",
            "Epsilon: 0.196\tTest Accuracy = 298 / 10000 = 0.02979999966919422\n",
            "Epsilon: 0.197\tTest Accuracy = 285 / 10000 = 0.02850000001490116\n",
            "Epsilon: 0.198\tTest Accuracy = 302 / 10000 = 0.03020000085234642\n",
            "Epsilon: 0.199\tTest Accuracy = 295 / 10000 = 0.029500000178813934\n"
          ],
          "name": "stdout"
        }
      ]
    },
    {
      "cell_type": "code",
      "metadata": {
        "colab": {
          "base_uri": "https://localhost:8080/",
          "height": 1000
        },
        "id": "13RVJYTEMyHO",
        "outputId": "9eb88540-f57d-411e-a405-84a046070286"
      },
      "source": [
        "plt.figure(figsize=(20,20))\n",
        "plt.plot(epsilons, accuracies, \"*-\")\n",
        "plt.yticks(np.arange(0, 1.1, step=0.1))\n",
        "plt.xticks(np.arange(0, 0.2, step=0.001))\n",
        "plt.title(\"Accuracy vs Epsilon\")\n",
        "plt.xlabel(\"Epsilon\")\n",
        "plt.ylabel(\"Accuracy\")\n",
        "plt.show()"
      ],
      "execution_count": 37,
      "outputs": [
        {
          "output_type": "display_data",
          "data": {
            "image/png": "[encoded data removed]",
            "text/plain": [
              "<Figure size 1440x1440 with 1 Axes>"
            ]
          },
          "metadata": {
            "tags": [],
            "needs_background": "light"
          }
        }
      ]
    },
    {
      "cell_type": "code",
      "metadata": {
        "id": "QaHEszvQiyuE"
      },
      "source": [
        ""
      ],
      "execution_count": null,
      "outputs": []
    }
  ]
}